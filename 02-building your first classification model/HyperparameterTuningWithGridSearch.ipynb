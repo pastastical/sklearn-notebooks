{
 "cells": [
  {
   "cell_type": "code",
   "execution_count": 1,
   "metadata": {},
   "outputs": [
    {
     "name": "stderr",
     "output_type": "stream",
     "text": [
      "C:\\Users\\user\\Anaconda3\\lib\\importlib\\_bootstrap.py:219: RuntimeWarning: numpy.ufunc size changed, may indicate binary incompatibility. Expected 192 from C header, got 216 from PyObject\n",
      "  return f(*args, **kwds)\n",
      "C:\\Users\\user\\Anaconda3\\lib\\importlib\\_bootstrap.py:219: RuntimeWarning: numpy.ufunc size changed, may indicate binary incompatibility. Expected 192 from C header, got 216 from PyObject\n",
      "  return f(*args, **kwds)\n"
     ]
    }
   ],
   "source": [
    "%reset -f\n",
    "import pandas as pd\n",
    "import numpy as np\n",
    "\n",
    "from sklearn.model_selection import train_test_split\n",
    "from sklearn.metrics import accuracy_score\n",
    "from sklearn.metrics import precision_score\n",
    "from sklearn.metrics import recall_score\n",
    "\n",
    "from sklearn.linear_model import LogisticRegression\n",
    "from sklearn.tree import DecisionTreeClassifier\n"
   ]
  },
  {
   "cell_type": "code",
   "execution_count": 5,
   "metadata": {},
   "outputs": [
    {
     "data": {
      "text/html": [
       "<div>\n",
       "<style scoped>\n",
       "    .dataframe tbody tr th:only-of-type {\n",
       "        vertical-align: middle;\n",
       "    }\n",
       "\n",
       "    .dataframe tbody tr th {\n",
       "        vertical-align: top;\n",
       "    }\n",
       "\n",
       "    .dataframe thead th {\n",
       "        text-align: right;\n",
       "    }\n",
       "</style>\n",
       "<table border=\"1\" class=\"dataframe\">\n",
       "  <thead>\n",
       "    <tr style=\"text-align: right;\">\n",
       "      <th></th>\n",
       "      <th>Survived</th>\n",
       "      <th>Pclass</th>\n",
       "      <th>Sex</th>\n",
       "      <th>Age</th>\n",
       "      <th>SibSp</th>\n",
       "      <th>Parch</th>\n",
       "      <th>Fare</th>\n",
       "      <th>Embarked_C</th>\n",
       "      <th>Embarked_Q</th>\n",
       "      <th>Embarked_S</th>\n",
       "    </tr>\n",
       "  </thead>\n",
       "  <tbody>\n",
       "    <tr>\n",
       "      <td>0</td>\n",
       "      <td>0</td>\n",
       "      <td>3</td>\n",
       "      <td>0</td>\n",
       "      <td>14.0</td>\n",
       "      <td>0</td>\n",
       "      <td>0</td>\n",
       "      <td>7.8542</td>\n",
       "      <td>0</td>\n",
       "      <td>0</td>\n",
       "      <td>1</td>\n",
       "    </tr>\n",
       "    <tr>\n",
       "      <td>1</td>\n",
       "      <td>1</td>\n",
       "      <td>1</td>\n",
       "      <td>1</td>\n",
       "      <td>28.0</td>\n",
       "      <td>0</td>\n",
       "      <td>0</td>\n",
       "      <td>26.5500</td>\n",
       "      <td>0</td>\n",
       "      <td>0</td>\n",
       "      <td>1</td>\n",
       "    </tr>\n",
       "    <tr>\n",
       "      <td>2</td>\n",
       "      <td>1</td>\n",
       "      <td>1</td>\n",
       "      <td>0</td>\n",
       "      <td>36.0</td>\n",
       "      <td>1</td>\n",
       "      <td>2</td>\n",
       "      <td>120.0000</td>\n",
       "      <td>0</td>\n",
       "      <td>0</td>\n",
       "      <td>1</td>\n",
       "    </tr>\n",
       "    <tr>\n",
       "      <td>3</td>\n",
       "      <td>0</td>\n",
       "      <td>3</td>\n",
       "      <td>1</td>\n",
       "      <td>17.0</td>\n",
       "      <td>1</td>\n",
       "      <td>0</td>\n",
       "      <td>7.0542</td>\n",
       "      <td>0</td>\n",
       "      <td>0</td>\n",
       "      <td>1</td>\n",
       "    </tr>\n",
       "    <tr>\n",
       "      <td>4</td>\n",
       "      <td>0</td>\n",
       "      <td>3</td>\n",
       "      <td>1</td>\n",
       "      <td>4.0</td>\n",
       "      <td>4</td>\n",
       "      <td>2</td>\n",
       "      <td>31.2750</td>\n",
       "      <td>0</td>\n",
       "      <td>0</td>\n",
       "      <td>1</td>\n",
       "    </tr>\n",
       "  </tbody>\n",
       "</table>\n",
       "</div>"
      ],
      "text/plain": [
       "   Survived  Pclass  Sex   Age  SibSp  Parch      Fare  Embarked_C  \\\n",
       "0         0       3    0  14.0      0      0    7.8542           0   \n",
       "1         1       1    1  28.0      0      0   26.5500           0   \n",
       "2         1       1    0  36.0      1      2  120.0000           0   \n",
       "3         0       3    1  17.0      1      0    7.0542           0   \n",
       "4         0       3    1   4.0      4      2   31.2750           0   \n",
       "\n",
       "   Embarked_Q  Embarked_S  \n",
       "0           0           1  \n",
       "1           0           1  \n",
       "2           0           1  \n",
       "3           0           1  \n",
       "4           0           1  "
      ]
     },
     "execution_count": 5,
     "metadata": {},
     "output_type": "execute_result"
    }
   ],
   "source": [
    "## Load data\n",
    "titanic_df = pd.read_csv('datasets/titanic_processed.csv')\n",
    "titanic_df.head()"
   ]
  },
  {
   "cell_type": "code",
   "execution_count": 6,
   "metadata": {},
   "outputs": [],
   "source": [
    "## Setup training and testing features and labels\n",
    "X = titanic_df.drop('Survived', axis=1)\n",
    "Y = titanic_df['Survived']\n",
    "x_train, x_test, y_train, y_test = train_test_split(X,Y, test_size=0.2)"
   ]
  },
  {
   "cell_type": "code",
   "execution_count": 49,
   "metadata": {},
   "outputs": [],
   "source": [
    "## print out classification summary\n",
    "def summarize_classification(y_test, y_pred):\n",
    "    acc = accuracy_score(y_test, y_pred, normalize=True)\n",
    "    num_acc = accuracy_score(y_test, y_pred, normalize=False)\n",
    "    prec = precision_score(y_test, y_pred)\n",
    "    recall = recall_score(y_test, y_pred)\n",
    "    print('Test data count: ',len(y_test))\n",
    "    print('accuracy_count: ',num_acc)\n",
    "    print('accuracy_score: ',acc)\n",
    "    print('precision_score: ',prec)\n",
    "    print('recall_score: ',recall)\n",
    "    print()"
   ]
  },
  {
   "cell_type": "code",
   "execution_count": 50,
   "metadata": {},
   "outputs": [
    {
     "data": {
      "text/plain": [
       "{'max_depth': 4}"
      ]
     },
     "execution_count": 50,
     "metadata": {},
     "output_type": "execute_result"
    }
   ],
   "source": [
    "## import gridsearch cross validation to find the best model for the data\n",
    "## the parameters var is to tune the hyperparameters so for a tree classiffier we use a list of max depth values\n",
    "## we could also include different parameters\n",
    "## 6 parameters means this will create 6 models and find the best model with 3-fold cross validation to find the best model.\n",
    "## splits the training info into 3 sets, and train and evaluate multiple times\n",
    "## instead of returning the train score you can use your own finction to calculate score\n",
    "\n",
    "from sklearn.model_selection import GridSearchCV\n",
    "\n",
    "parameters = {'max_depth': [2, 4, 5, 7, 9, 10]}\n",
    "\n",
    "grid_search = GridSearchCV(DecisionTreeClassifier(), parameters, cv=3,return_train_score=True)\n",
    "grid_search.fit(x_train, y_train)\n",
    "grid_search.best_params_\n"
   ]
  },
  {
   "cell_type": "code",
   "execution_count": 51,
   "metadata": {},
   "outputs": [
    {
     "name": "stdout",
     "output_type": "stream",
     "text": [
      "Parameters:  {'max_depth': 2}\n",
      "Mean test score:  0.7838312829525483\n",
      "Rank:  3\n",
      "Parameters:  {'max_depth': 4}\n",
      "Mean test score:  0.7961335676625659\n",
      "Rank:  1\n",
      "Parameters:  {'max_depth': 5}\n",
      "Mean test score:  0.7961335676625659\n",
      "Rank:  1\n",
      "Parameters:  {'max_depth': 7}\n",
      "Mean test score:  0.7592267135325131\n",
      "Rank:  5\n",
      "Parameters:  {'max_depth': 9}\n",
      "Mean test score:  0.7627416520210897\n",
      "Rank:  4\n",
      "Parameters:  {'max_depth': 10}\n",
      "Mean test score:  0.7416520210896309\n",
      "Rank:  6\n"
     ]
    }
   ],
   "source": [
    "## view all results from grid_search\n",
    "for i in range(6):\n",
    "    print('Parameters: ', grid_search.cv_results_['params'][i])\n",
    "    print('Mean test score: ', grid_search.cv_results_['mean_test_score'][i])\n",
    "    print('Rank: ',grid_search.cv_results_['rank_test_score'][i])"
   ]
  },
  {
   "cell_type": "code",
   "execution_count": 52,
   "metadata": {},
   "outputs": [],
   "source": [
    "decision_tree_model = DecisionTreeClassifier( max_depth= grid_search.best_params_['max_depth']).fit(x_train, y_train)"
   ]
  },
  {
   "cell_type": "code",
   "execution_count": 53,
   "metadata": {},
   "outputs": [],
   "source": [
    "y_pred = decision_tree_model.predict(x_test)"
   ]
  },
  {
   "cell_type": "code",
   "execution_count": 54,
   "metadata": {},
   "outputs": [
    {
     "name": "stdout",
     "output_type": "stream",
     "text": [
      "Test data count:  143\n",
      "accuracy_count:  112\n",
      "accuracy_score:  0.7832167832167832\n",
      "precision_score:  0.7659574468085106\n",
      "recall_score:  0.6428571428571429\n",
      "\n"
     ]
    }
   ],
   "source": [
    "summarize_classification(y_test, y_pred)"
   ]
  },
  {
   "cell_type": "code",
   "execution_count": 89,
   "metadata": {},
   "outputs": [
    {
     "data": {
      "text/plain": [
       "{'C': 5, 'penalty': 'l2'}"
      ]
     },
     "execution_count": 89,
     "metadata": {},
     "output_type": "execute_result"
    }
   ],
   "source": [
    "parameters = {'penalty':['l1','l2'],\n",
    "             'C':[0.1,0.4,0.8,1,2,5]}\n",
    "grid_search = GridSearchCV(LogisticRegression(solver='liblinear'),parameters, cv=3,return_train_score=True)\n",
    "grid_search.fit(x_train,y_train)\n",
    "grid_search.best_params_"
   ]
  },
  {
   "cell_type": "code",
   "execution_count": 67,
   "metadata": {},
   "outputs": [
    {
     "name": "stdout",
     "output_type": "stream",
     "text": [
      "Parameters:  {'C': 0.1, 'penalty': 'l1'}\n",
      "Mean test score:  0.7609841827768014\n",
      "Rank:  12\n",
      "Parameters:  {'C': 0.1, 'penalty': 'l2'}\n",
      "Mean test score:  0.7785588752196837\n",
      "Rank:  11\n",
      "Parameters:  {'C': 0.4, 'penalty': 'l1'}\n",
      "Mean test score:  0.7873462214411248\n",
      "Rank:  10\n",
      "Parameters:  {'C': 0.4, 'penalty': 'l2'}\n",
      "Mean test score:  0.789103690685413\n",
      "Rank:  8\n",
      "Parameters:  {'C': 0.8, 'penalty': 'l1'}\n",
      "Mean test score:  0.7926186291739895\n",
      "Rank:  2\n",
      "Parameters:  {'C': 0.8, 'penalty': 'l2'}\n",
      "Mean test score:  0.789103690685413\n",
      "Rank:  8\n",
      "Parameters:  {'C': 1, 'penalty': 'l1'}\n",
      "Mean test score:  0.7908611599297012\n",
      "Rank:  4\n",
      "Parameters:  {'C': 1, 'penalty': 'l2'}\n",
      "Mean test score:  0.7908611599297012\n",
      "Rank:  4\n",
      "Parameters:  {'C': 2, 'penalty': 'l1'}\n",
      "Mean test score:  0.7908611599297012\n",
      "Rank:  4\n",
      "Parameters:  {'C': 2, 'penalty': 'l2'}\n",
      "Mean test score:  0.7908611599297012\n",
      "Rank:  4\n",
      "Parameters:  {'C': 5, 'penalty': 'l1'}\n",
      "Mean test score:  0.7926186291739895\n",
      "Rank:  2\n",
      "Parameters:  {'C': 5, 'penalty': 'l2'}\n",
      "Mean test score:  0.7961335676625659\n",
      "Rank:  1\n"
     ]
    }
   ],
   "source": [
    "## view all results from grid_search\n",
    "for i in range(12):\n",
    "    print('Parameters: ', grid_search.cv_results_['params'][i])\n",
    "    print('Mean test score: ', grid_search.cv_results_['mean_test_score'][i])\n",
    "    print('Rank: ',grid_search.cv_results_['rank_test_score'][i])"
   ]
  },
  {
   "cell_type": "code",
   "execution_count": 91,
   "metadata": {},
   "outputs": [
    {
     "name": "stdout",
     "output_type": "stream",
     "text": [
      "Test data count:  143\n",
      "accuracy_count:  117\n",
      "accuracy_score:  0.8181818181818182\n",
      "precision_score:  0.7777777777777778\n",
      "recall_score:  0.75\n",
      "\n"
     ]
    }
   ],
   "source": [
    "logistic_model = LogisticRegression(solver='liblinear',penalty=grid_search.best_params_['penalty'],C=grid_search.best_params_['C']).fit(x_train, y_train)\n",
    "y_pred = logistic_model.predict(x_test)\n",
    "summarize_classification(y_test, y_pred)"
   ]
  },
  {
   "cell_type": "code",
   "execution_count": null,
   "metadata": {},
   "outputs": [],
   "source": []
  }
 ],
 "metadata": {
  "kernelspec": {
   "display_name": "Python 3",
   "language": "python",
   "name": "python3"
  },
  "language_info": {
   "codemirror_mode": {
    "name": "ipython",
    "version": 3
   },
   "file_extension": ".py",
   "mimetype": "text/x-python",
   "name": "python",
   "nbconvert_exporter": "python",
   "pygments_lexer": "ipython3",
   "version": "3.7.4"
  }
 },
 "nbformat": 4,
 "nbformat_minor": 2
}
