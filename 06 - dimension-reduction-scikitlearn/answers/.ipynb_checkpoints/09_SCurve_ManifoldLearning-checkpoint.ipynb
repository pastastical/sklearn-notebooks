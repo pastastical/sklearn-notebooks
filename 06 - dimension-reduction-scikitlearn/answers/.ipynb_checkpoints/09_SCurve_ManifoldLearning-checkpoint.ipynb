{
 "cells": [
  {
   "cell_type": "markdown",
   "metadata": {},
   "source": [
    "## Manifold Learning on an S-curve"
   ]
  },
  {
   "cell_type": "code",
   "execution_count": 4,
   "metadata": {},
   "outputs": [],
   "source": [
    "import pandas as pd\n",
    "import seaborn as sns\n",
    "\n",
    "from sklearn import datasets\n",
    "\n",
    "import matplotlib.pyplot as plt\n",
    "from mpl_toolkits import mplot3d\n",
    "\n",
    "from jupyterthemes import jtplot\n",
    "jtplot.style()"
   ]
  },
  {
   "cell_type": "markdown",
   "metadata": {},
   "source": [
    "### Load Data"
   ]
  },
  {
   "cell_type": "code",
   "execution_count": 5,
   "metadata": {},
   "outputs": [],
   "source": [
    "def generate_s_curve(method, n = 1500):\n",
    "    \n",
    "    X, color = method( n_samples = n)\n",
    "    \n",
    "    print (\"Shape of X : \", X.shape)\n",
    "    print (\"Shape of color : \", color.shape)\n",
    "    print()\n",
    "    print (\"Sample X : \\n\")\n",
    "    \n",
    "    X = pd.DataFrame(X)\n",
    "    print(X.sample(10))\n",
    "    \n",
    "    ax = plt.subplots(figsize=(12, 8))\n",
    "    ax = plt.axes(projection ='3d')\n",
    "    \n",
    "    ax.scatter3D(X[0], X[1], X[2], c = color, cmap = plt.cm.RdYlBu, s=100);\n",
    "    \n",
    "    return X, color"
   ]
  },
  {
   "cell_type": "code",
   "execution_count": 6,
   "metadata": {},
   "outputs": [
    {
     "ename": "AttributeError",
     "evalue": "module 'sklearn.datasets' has no attribute 'samples_generator'",
     "output_type": "error",
     "traceback": [
      "\u001b[0;31m---------------------------------------------------------------------------\u001b[0m",
      "\u001b[0;31mAttributeError\u001b[0m                            Traceback (most recent call last)",
      "\u001b[0;32m<ipython-input-6-7a0d674ef2bc>\u001b[0m in \u001b[0;36m<module>\u001b[0;34m\u001b[0m\n\u001b[0;32m----> 1\u001b[0;31m \u001b[0mX\u001b[0m\u001b[0;34m,\u001b[0m \u001b[0mcolor\u001b[0m \u001b[0;34m=\u001b[0m \u001b[0mgenerate_s_curve\u001b[0m\u001b[0;34m(\u001b[0m\u001b[0mdatasets\u001b[0m\u001b[0;34m.\u001b[0m\u001b[0msamples_generator\u001b[0m\u001b[0;34m.\u001b[0m\u001b[0mmake_s_curve\u001b[0m\u001b[0;34m)\u001b[0m\u001b[0;34m\u001b[0m\u001b[0;34m\u001b[0m\u001b[0m\n\u001b[0m",
      "\u001b[0;31mAttributeError\u001b[0m: module 'sklearn.datasets' has no attribute 'samples_generator'"
     ]
    }
   ],
   "source": [
    "X, color = generate_s_curve(datasets.samples_generator.make_s_curve)"
   ]
  },
  {
   "cell_type": "markdown",
   "metadata": {},
   "source": [
    "## Manifold Learning"
   ]
  },
  {
   "cell_type": "code",
   "execution_count": null,
   "metadata": {},
   "outputs": [],
   "source": [
    "def apply_manifold_learning(X, method):\n",
    "    \n",
    "    X = method.fit_transform(X)\n",
    "    \n",
    "    print (\"New shape of X : \", X.shape)\n",
    "    print()\n",
    "    print (\"Sample X : \\n\")\n",
    "    \n",
    "    X = pd.DataFrame(X)\n",
    "    print(X.sample(10))\n",
    "    \n",
    "    plt.subplots(figsize = (12, 10))\n",
    "    plt.axis('equal');\n",
    "\n",
    "    plt.scatter(X[0], X[1], c = color, cmap = plt.cm.RdYlBu)\n",
    "    plt.xlabel('X[0]')\n",
    "    plt.ylabel('X[1]');\n",
    "    \n",
    "    return method"
   ]
  },
  {
   "cell_type": "markdown",
   "metadata": {},
   "source": [
    "### Apply MDS\n",
    "* n_components : Number of dimensions in which to immerse the dissimilarities.\n",
    "* metric : If True, perform metric MDS; otherwise, perform nonmetric MDS.\n",
    "* embedding_ :Stores the position of the dataset in the embedding space.\n",
    "* stress_ : The final value of the stress (sum of squared distance of the disparities and the distances for all constrained points).\n",
    "\n",
    "https://scikit-learn.org/stable/modules/generated/sklearn.manifold.MDS.html"
   ]
  },
  {
   "cell_type": "code",
   "execution_count": null,
   "metadata": {},
   "outputs": [],
   "source": [
    "from sklearn.manifold import MDS\n",
    "\n",
    "mds = apply_manifold_learning(X, MDS(n_components = 2, metric = False))"
   ]
  },
  {
   "cell_type": "code",
   "execution_count": null,
   "metadata": {},
   "outputs": [],
   "source": [
    "mds = apply_manifold_learning(X, MDS(n_components = 2, metric = True))"
   ]
  },
  {
   "cell_type": "markdown",
   "metadata": {},
   "source": [
    "### Apply Spectral Embedding\n",
    "* n_components : The dimension of the projected subspace. \n",
    "* random_state : A pseudo random number generator used for the initialization of the lobpcg eigenvectors.\n",
    "* eigen_solver : None, ‘arpack’, ‘lobpcg’, or ‘amg’\n",
    "    * The eigenvalue decomposition strategy to use.\n",
    "    \n",
    "* embedding_ : Spectral embedding of the training matrix.\n",
    "\n",
    "* affinity_matrix_ : Affinity_matrix constructed from samples or precomputed.\n",
    "\n",
    "https://scikit-learn.org/stable/modules/generated/sklearn.manifold.SpectralEmbedding.html"
   ]
  },
  {
   "cell_type": "code",
   "execution_count": null,
   "metadata": {},
   "outputs": [],
   "source": [
    "from sklearn.manifold import SpectralEmbedding\n",
    "\n",
    "spectral_em = apply_manifold_learning(X, \\\n",
    "        SpectralEmbedding(n_components = 2, random_state = 0, eigen_solver = \"arpack\"))"
   ]
  },
  {
   "cell_type": "markdown",
   "metadata": {},
   "source": [
    "### Apply TSNE\n",
    "* n_components : Dimension of the embedded space.\n",
    "* init : Initialization of embedding. Possible options are ‘random’, ‘pca’, and a numpy array of shape (n_samples, n_components). PCA initialization cannot be used with precomputed distances and is usually more globally stable than random initialization.\n",
    "* random_state : If int, random_state is the seed used by the random number generator\n",
    "* embedding_ : Stores the embedding vectors.\n",
    "* kl_divergence_ : Kullback-Leibler divergence after optimization.\n",
    "\n",
    "https://scikit-learn.org/stable/modules/generated/sklearn.manifold.TSNE.html"
   ]
  },
  {
   "cell_type": "code",
   "execution_count": null,
   "metadata": {},
   "outputs": [],
   "source": [
    "from sklearn.manifold import TSNE\n",
    "\n",
    "tsne = apply_manifold_learning(X, TSNE(n_components = 2, init = 'pca', random_state = 0))"
   ]
  },
  {
   "cell_type": "markdown",
   "metadata": {},
   "source": [
    "### Apply Isomap\n",
    "\n",
    "* n_neighbors : number of neighbors to consider for each point.\n",
    "\n",
    "* n_components : number of coordinates for the manifold\n",
    "* embedding_ : Stores the embedding vectors.\n",
    "\n",
    "* dist_matrix_ : Stores the geodesic distance matrix of training data.\n",
    "\n",
    "https://scikit-learn.org/stable/modules/generated/sklearn.manifold.Isomap.html"
   ]
  },
  {
   "cell_type": "code",
   "execution_count": null,
   "metadata": {},
   "outputs": [],
   "source": [
    "from sklearn.manifold import Isomap\n",
    "\n",
    "isomap = apply_manifold_learning(X, Isomap(n_neighbors = 15, n_components = 2))"
   ]
  },
  {
   "cell_type": "markdown",
   "metadata": {},
   "source": [
    "### Apply LLE\n",
    "* n_neighbors :number of neighbors to consider for each point.\n",
    "\n",
    "* n_components : number of coordinates for the manifold\n",
    "* method : ‘standard’, ‘hessian’, ‘modified’ or ‘ltsa’\n",
    "    * standard : use the standard locally linear embedding algorithm. \n",
    "\n",
    "    * hessian : use the Hessian eigenmap method. This method requires n_neighbors > n_components * (1 + (n_components + 1) / 2 \n",
    "\n",
    "    * modified : use the modified locally linear embedding algorithm.\n",
    "    * ltsa : use local tangent space alignment algorithm\n",
    "* embedding_ : Stores the embedding vectors\n",
    "\n",
    "* reconstruction_error_ : Reconstruction error associated with embedding_\n",
    "\n",
    "https://scikit-learn.org/stable/modules/generated/sklearn.manifold.LocallyLinearEmbedding.html"
   ]
  },
  {
   "cell_type": "code",
   "execution_count": 7,
   "metadata": {},
   "outputs": [
    {
     "ename": "NameError",
     "evalue": "name 'apply_manifold_learning' is not defined",
     "output_type": "error",
     "traceback": [
      "\u001b[0;31m---------------------------------------------------------------------------\u001b[0m",
      "\u001b[0;31mNameError\u001b[0m                                 Traceback (most recent call last)",
      "\u001b[0;32m<ipython-input-7-8ff4b5ce7d64>\u001b[0m in \u001b[0;36m<module>\u001b[0;34m\u001b[0m\n\u001b[1;32m      1\u001b[0m \u001b[0;32mfrom\u001b[0m \u001b[0msklearn\u001b[0m\u001b[0;34m.\u001b[0m\u001b[0mmanifold\u001b[0m \u001b[0;32mimport\u001b[0m \u001b[0mLocallyLinearEmbedding\u001b[0m\u001b[0;34m\u001b[0m\u001b[0;34m\u001b[0m\u001b[0m\n\u001b[1;32m      2\u001b[0m \u001b[0;34m\u001b[0m\u001b[0m\n\u001b[0;32m----> 3\u001b[0;31m lle = apply_manifold_learning(X, \\\n\u001b[0m\u001b[1;32m      4\u001b[0m         LocallyLinearEmbedding(n_neighbors = 15, n_components = 2, method = 'standard') ) \n",
      "\u001b[0;31mNameError\u001b[0m: name 'apply_manifold_learning' is not defined"
     ]
    }
   ],
   "source": [
    "from sklearn.manifold import LocallyLinearEmbedding\n",
    "\n",
    "lle = apply_manifold_learning(X, \\\n",
    "        LocallyLinearEmbedding(n_neighbors = 15, n_components = 2, method = 'standard') ) "
   ]
  },
  {
   "cell_type": "markdown",
   "metadata": {},
   "source": [
    "### Apply HLLE\n",
    "\n",
    "* embedding_ : Stores the embedding vectors\n",
    "\n",
    "* reconstruction_error_ : Reconstruction error associated with embedding_"
   ]
  },
  {
   "cell_type": "code",
   "execution_count": null,
   "metadata": {},
   "outputs": [],
   "source": [
    "hlle = apply_manifold_learning(X, \n",
    "            LocallyLinearEmbedding(n_neighbors = 15, n_components = 2, method = 'hessian'))"
   ]
  },
  {
   "cell_type": "code",
   "execution_count": null,
   "metadata": {},
   "outputs": [],
   "source": []
  }
 ],
 "metadata": {
  "kernelspec": {
   "display_name": "Python 3",
   "language": "python",
   "name": "python3"
  },
  "language_info": {
   "codemirror_mode": {
    "name": "ipython",
    "version": 3
   },
   "file_extension": ".py",
   "mimetype": "text/x-python",
   "name": "python",
   "nbconvert_exporter": "python",
   "pygments_lexer": "ipython3",
   "version": "3.7.6"
  }
 },
 "nbformat": 4,
 "nbformat_minor": 2
}
