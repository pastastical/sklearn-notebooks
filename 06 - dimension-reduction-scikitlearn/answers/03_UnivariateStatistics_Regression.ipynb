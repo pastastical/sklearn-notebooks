{
 "cells": [
  {
   "cell_type": "markdown",
   "metadata": {},
   "source": [
    "## Using statistical tests to select features for building a linear regression model\n",
    "\n",
    "* Statistical tests can be used to select those features that have the strongest relationship with the output variable.\n",
    "\n",
    "* It can be seen as a preprocessing step to an estimator. "
   ]
  },
  {
   "cell_type": "code",
   "execution_count": 1,
   "metadata": {},
   "outputs": [],
   "source": [
    "import pandas as pd\n",
    "import pylab\n",
    "import matplotlib.pyplot as plt\n",
    "\n",
    "import statsmodels.api as sm\n",
    "\n",
    "from sklearn.linear_model import LinearRegression\n",
    "\n",
    "from sklearn.model_selection import train_test_split\n",
    "from sklearn.metrics import r2_score"
   ]
  },
  {
   "cell_type": "markdown",
   "metadata": {},
   "source": [
    "### Load and preprocess Data"
   ]
  },
  {
   "cell_type": "code",
   "execution_count": 2,
   "metadata": {},
   "outputs": [],
   "source": [
    "housesale_df = pd.read_csv('../datasets/housesale.csv', dtype = 'float')"
   ]
  },
  {
   "cell_type": "code",
   "execution_count": 3,
   "metadata": {},
   "outputs": [
    {
     "data": {
      "text/plain": [
       "(21597, 18)"
      ]
     },
     "execution_count": 3,
     "metadata": {},
     "output_type": "execute_result"
    }
   ],
   "source": [
    "housesale_df.shape"
   ]
  },
  {
   "cell_type": "code",
   "execution_count": 4,
   "metadata": {
    "scrolled": true
   },
   "outputs": [
    {
     "data": {
      "text/html": [
       "<div>\n",
       "<style scoped>\n",
       "    .dataframe tbody tr th:only-of-type {\n",
       "        vertical-align: middle;\n",
       "    }\n",
       "\n",
       "    .dataframe tbody tr th {\n",
       "        vertical-align: top;\n",
       "    }\n",
       "\n",
       "    .dataframe thead th {\n",
       "        text-align: right;\n",
       "    }\n",
       "</style>\n",
       "<table border=\"1\" class=\"dataframe\">\n",
       "  <thead>\n",
       "    <tr style=\"text-align: right;\">\n",
       "      <th></th>\n",
       "      <th>price</th>\n",
       "      <th>bedrooms</th>\n",
       "      <th>bathrooms</th>\n",
       "      <th>sqft_living</th>\n",
       "      <th>sqft_lot</th>\n",
       "      <th>floors</th>\n",
       "      <th>waterfront</th>\n",
       "      <th>view</th>\n",
       "      <th>condition</th>\n",
       "      <th>grade</th>\n",
       "      <th>sqft_above</th>\n",
       "      <th>sqft_basement</th>\n",
       "      <th>lat</th>\n",
       "      <th>long</th>\n",
       "      <th>sqft_living15</th>\n",
       "      <th>sqft_lot15</th>\n",
       "      <th>age</th>\n",
       "      <th>renovated</th>\n",
       "    </tr>\n",
       "  </thead>\n",
       "  <tbody>\n",
       "    <tr>\n",
       "      <th>0</th>\n",
       "      <td>221900.0</td>\n",
       "      <td>3.0</td>\n",
       "      <td>1.00</td>\n",
       "      <td>1180.0</td>\n",
       "      <td>5650.0</td>\n",
       "      <td>1.0</td>\n",
       "      <td>0.0</td>\n",
       "      <td>0.0</td>\n",
       "      <td>3.0</td>\n",
       "      <td>7.0</td>\n",
       "      <td>1180.0</td>\n",
       "      <td>0.0</td>\n",
       "      <td>47.5112</td>\n",
       "      <td>-122.257</td>\n",
       "      <td>1340.0</td>\n",
       "      <td>5650.0</td>\n",
       "      <td>63.0</td>\n",
       "      <td>0.0</td>\n",
       "    </tr>\n",
       "    <tr>\n",
       "      <th>1</th>\n",
       "      <td>538000.0</td>\n",
       "      <td>3.0</td>\n",
       "      <td>2.25</td>\n",
       "      <td>2570.0</td>\n",
       "      <td>7242.0</td>\n",
       "      <td>2.0</td>\n",
       "      <td>0.0</td>\n",
       "      <td>0.0</td>\n",
       "      <td>3.0</td>\n",
       "      <td>7.0</td>\n",
       "      <td>2170.0</td>\n",
       "      <td>400.0</td>\n",
       "      <td>47.7210</td>\n",
       "      <td>-122.319</td>\n",
       "      <td>1690.0</td>\n",
       "      <td>7639.0</td>\n",
       "      <td>67.0</td>\n",
       "      <td>1.0</td>\n",
       "    </tr>\n",
       "    <tr>\n",
       "      <th>2</th>\n",
       "      <td>180000.0</td>\n",
       "      <td>2.0</td>\n",
       "      <td>1.00</td>\n",
       "      <td>770.0</td>\n",
       "      <td>10000.0</td>\n",
       "      <td>1.0</td>\n",
       "      <td>0.0</td>\n",
       "      <td>0.0</td>\n",
       "      <td>3.0</td>\n",
       "      <td>6.0</td>\n",
       "      <td>770.0</td>\n",
       "      <td>0.0</td>\n",
       "      <td>47.7379</td>\n",
       "      <td>-122.233</td>\n",
       "      <td>2720.0</td>\n",
       "      <td>8062.0</td>\n",
       "      <td>85.0</td>\n",
       "      <td>0.0</td>\n",
       "    </tr>\n",
       "    <tr>\n",
       "      <th>3</th>\n",
       "      <td>604000.0</td>\n",
       "      <td>4.0</td>\n",
       "      <td>3.00</td>\n",
       "      <td>1960.0</td>\n",
       "      <td>5000.0</td>\n",
       "      <td>1.0</td>\n",
       "      <td>0.0</td>\n",
       "      <td>0.0</td>\n",
       "      <td>5.0</td>\n",
       "      <td>7.0</td>\n",
       "      <td>1050.0</td>\n",
       "      <td>910.0</td>\n",
       "      <td>47.5208</td>\n",
       "      <td>-122.393</td>\n",
       "      <td>1360.0</td>\n",
       "      <td>5000.0</td>\n",
       "      <td>53.0</td>\n",
       "      <td>0.0</td>\n",
       "    </tr>\n",
       "    <tr>\n",
       "      <th>4</th>\n",
       "      <td>510000.0</td>\n",
       "      <td>3.0</td>\n",
       "      <td>2.00</td>\n",
       "      <td>1680.0</td>\n",
       "      <td>8080.0</td>\n",
       "      <td>1.0</td>\n",
       "      <td>0.0</td>\n",
       "      <td>0.0</td>\n",
       "      <td>3.0</td>\n",
       "      <td>8.0</td>\n",
       "      <td>1680.0</td>\n",
       "      <td>0.0</td>\n",
       "      <td>47.6168</td>\n",
       "      <td>-122.045</td>\n",
       "      <td>1800.0</td>\n",
       "      <td>7503.0</td>\n",
       "      <td>31.0</td>\n",
       "      <td>0.0</td>\n",
       "    </tr>\n",
       "  </tbody>\n",
       "</table>\n",
       "</div>"
      ],
      "text/plain": [
       "      price  bedrooms  bathrooms  sqft_living  sqft_lot  floors  waterfront  \\\n",
       "0  221900.0       3.0       1.00       1180.0    5650.0     1.0         0.0   \n",
       "1  538000.0       3.0       2.25       2570.0    7242.0     2.0         0.0   \n",
       "2  180000.0       2.0       1.00        770.0   10000.0     1.0         0.0   \n",
       "3  604000.0       4.0       3.00       1960.0    5000.0     1.0         0.0   \n",
       "4  510000.0       3.0       2.00       1680.0    8080.0     1.0         0.0   \n",
       "\n",
       "   view  condition  grade  sqft_above  sqft_basement      lat     long  \\\n",
       "0   0.0        3.0    7.0      1180.0            0.0  47.5112 -122.257   \n",
       "1   0.0        3.0    7.0      2170.0          400.0  47.7210 -122.319   \n",
       "2   0.0        3.0    6.0       770.0            0.0  47.7379 -122.233   \n",
       "3   0.0        5.0    7.0      1050.0          910.0  47.5208 -122.393   \n",
       "4   0.0        3.0    8.0      1680.0            0.0  47.6168 -122.045   \n",
       "\n",
       "   sqft_living15  sqft_lot15   age  renovated  \n",
       "0         1340.0      5650.0  63.0        0.0  \n",
       "1         1690.0      7639.0  67.0        1.0  \n",
       "2         2720.0      8062.0  85.0        0.0  \n",
       "3         1360.0      5000.0  53.0        0.0  \n",
       "4         1800.0      7503.0  31.0        0.0  "
      ]
     },
     "execution_count": 4,
     "metadata": {},
     "output_type": "execute_result"
    }
   ],
   "source": [
    "housesale_df.head()"
   ]
  },
  {
   "cell_type": "code",
   "execution_count": 5,
   "metadata": {},
   "outputs": [
    {
     "data": {
      "text/plain": [
       "(21597, 17)"
      ]
     },
     "execution_count": 5,
     "metadata": {},
     "output_type": "execute_result"
    }
   ],
   "source": [
    "X = housesale_df.drop('price', axis = 1)\n",
    "y = housesale_df['price']\n",
    "\n",
    "X.shape"
   ]
  },
  {
   "cell_type": "markdown",
   "metadata": {},
   "source": [
    "## Feature Selection : f_regression\n",
    "* f_regression : Linear model for testing the individual effect of each of many regressors. Based on ANOVA.\n",
    "\n",
    "* SelectKBest A feature selection method from sklearn that can be used with a suite of different statistical tests to select a specific number of features. Uses f-score computed using ANOVA to select k best features.\n",
    "\n",
    "https://scikit-learn.org/stable/modules/generated/sklearn.feature_selection.f_regression.html#sklearn.feature_selection.f_regression\n",
    "\n",
    "https://scikit-learn.org/stable/modules/generated/sklearn.feature_selection.SelectKBest.html"
   ]
  },
  {
   "cell_type": "code",
   "execution_count": 6,
   "metadata": {},
   "outputs": [],
   "source": [
    "from sklearn.feature_selection import f_regression, SelectKBest\n",
    "\n",
    "select_features = SelectKBest(f_regression, k = 3)"
   ]
  },
  {
   "cell_type": "code",
   "execution_count": 7,
   "metadata": {},
   "outputs": [],
   "source": [
    "X_new = select_features.fit_transform(X, y)"
   ]
  },
  {
   "cell_type": "code",
   "execution_count": 8,
   "metadata": {},
   "outputs": [
    {
     "data": {
      "text/plain": [
       "(21597, 3)"
      ]
     },
     "execution_count": 8,
     "metadata": {},
     "output_type": "execute_result"
    }
   ],
   "source": [
    "X_new.shape"
   ]
  },
  {
   "cell_type": "code",
   "execution_count": 9,
   "metadata": {},
   "outputs": [
    {
     "data": {
      "text/html": [
       "<div>\n",
       "<style scoped>\n",
       "    .dataframe tbody tr th:only-of-type {\n",
       "        vertical-align: middle;\n",
       "    }\n",
       "\n",
       "    .dataframe tbody tr th {\n",
       "        vertical-align: top;\n",
       "    }\n",
       "\n",
       "    .dataframe thead th {\n",
       "        text-align: right;\n",
       "    }\n",
       "</style>\n",
       "<table border=\"1\" class=\"dataframe\">\n",
       "  <thead>\n",
       "    <tr style=\"text-align: right;\">\n",
       "      <th></th>\n",
       "      <th>0</th>\n",
       "      <th>1</th>\n",
       "      <th>2</th>\n",
       "    </tr>\n",
       "  </thead>\n",
       "  <tbody>\n",
       "    <tr>\n",
       "      <th>0</th>\n",
       "      <td>1180.0</td>\n",
       "      <td>7.0</td>\n",
       "      <td>1180.0</td>\n",
       "    </tr>\n",
       "    <tr>\n",
       "      <th>1</th>\n",
       "      <td>2570.0</td>\n",
       "      <td>7.0</td>\n",
       "      <td>2170.0</td>\n",
       "    </tr>\n",
       "    <tr>\n",
       "      <th>2</th>\n",
       "      <td>770.0</td>\n",
       "      <td>6.0</td>\n",
       "      <td>770.0</td>\n",
       "    </tr>\n",
       "    <tr>\n",
       "      <th>3</th>\n",
       "      <td>1960.0</td>\n",
       "      <td>7.0</td>\n",
       "      <td>1050.0</td>\n",
       "    </tr>\n",
       "    <tr>\n",
       "      <th>4</th>\n",
       "      <td>1680.0</td>\n",
       "      <td>8.0</td>\n",
       "      <td>1680.0</td>\n",
       "    </tr>\n",
       "  </tbody>\n",
       "</table>\n",
       "</div>"
      ],
      "text/plain": [
       "        0    1       2\n",
       "0  1180.0  7.0  1180.0\n",
       "1  2570.0  7.0  2170.0\n",
       "2   770.0  6.0   770.0\n",
       "3  1960.0  7.0  1050.0\n",
       "4  1680.0  8.0  1680.0"
      ]
     },
     "execution_count": 9,
     "metadata": {},
     "output_type": "execute_result"
    }
   ],
   "source": [
    "X_new = pd.DataFrame(X_new)\n",
    "\n",
    "X_new.head()"
   ]
  },
  {
   "cell_type": "code",
   "execution_count": 10,
   "metadata": {},
   "outputs": [
    {
     "data": {
      "text/plain": [
       "['sqft_living', 'grade', 'sqft_above']"
      ]
     },
     "execution_count": 10,
     "metadata": {},
     "output_type": "execute_result"
    }
   ],
   "source": [
    "selected_features = []\n",
    "\n",
    "for i in range(len(X_new.columns)):\n",
    "    for j in range(len(X.columns)):\n",
    "        if(X_new.iloc[:,i].equals( X.iloc[:,j])):\n",
    "            selected_features.append(X.columns[j])\n",
    "            \n",
    "selected_features"
   ]
  },
  {
   "cell_type": "code",
   "execution_count": 11,
   "metadata": {},
   "outputs": [
    {
     "data": {
      "text/plain": [
       "{'age',\n",
       " 'bathrooms',\n",
       " 'bedrooms',\n",
       " 'condition',\n",
       " 'floors',\n",
       " 'lat',\n",
       " 'long',\n",
       " 'renovated',\n",
       " 'sqft_basement',\n",
       " 'sqft_living15',\n",
       " 'sqft_lot',\n",
       " 'sqft_lot15',\n",
       " 'view',\n",
       " 'waterfront'}"
      ]
     },
     "execution_count": 11,
     "metadata": {},
     "output_type": "execute_result"
    }
   ],
   "source": [
    "rejected_features = set(list(X)) - set(selected_features)\n",
    "\n",
    "rejected_features"
   ]
  },
  {
   "cell_type": "code",
   "execution_count": 12,
   "metadata": {},
   "outputs": [],
   "source": [
    "x_train, x_test, y_train, y_test = train_test_split(X_new, y, test_size = 0.2)"
   ]
  },
  {
   "cell_type": "code",
   "execution_count": 13,
   "metadata": {},
   "outputs": [
    {
     "data": {
      "text/plain": [
       "((17277, 3), (17277,))"
      ]
     },
     "execution_count": 13,
     "metadata": {},
     "output_type": "execute_result"
    }
   ],
   "source": [
    "x_train.shape, y_train.shape"
   ]
  },
  {
   "cell_type": "code",
   "execution_count": 14,
   "metadata": {},
   "outputs": [
    {
     "data": {
      "text/plain": [
       "((4320, 3), (4320,))"
      ]
     },
     "execution_count": 14,
     "metadata": {},
     "output_type": "execute_result"
    }
   ],
   "source": [
    "x_test.shape, y_test.shape"
   ]
  },
  {
   "cell_type": "code",
   "execution_count": 15,
   "metadata": {},
   "outputs": [],
   "source": [
    "model = sm.OLS(y_train, x_train)"
   ]
  },
  {
   "cell_type": "code",
   "execution_count": 16,
   "metadata": {},
   "outputs": [],
   "source": [
    "result = model.fit()"
   ]
  },
  {
   "cell_type": "code",
   "execution_count": 17,
   "metadata": {
    "scrolled": true
   },
   "outputs": [
    {
     "name": "stdout",
     "output_type": "stream",
     "text": [
      "                                 OLS Regression Results                                \n",
      "=======================================================================================\n",
      "Dep. Variable:                  price   R-squared (uncentered):                   0.838\n",
      "Model:                            OLS   Adj. R-squared (uncentered):              0.838\n",
      "Method:                 Least Squares   F-statistic:                          2.979e+04\n",
      "Date:                Wed, 12 Feb 2020   Prob (F-statistic):                        0.00\n",
      "Time:                        13:35:18   Log-Likelihood:                     -2.4023e+05\n",
      "No. Observations:               17277   AIC:                                  4.805e+05\n",
      "Df Residuals:                   17274   BIC:                                  4.805e+05\n",
      "Df Model:                           3                                                  \n",
      "Covariance Type:            nonrobust                                                  \n",
      "==============================================================================\n",
      "                 coef    std err          t      P>|t|      [0.025      0.975]\n",
      "------------------------------------------------------------------------------\n",
      "0            282.3035      4.666     60.501      0.000     273.157     291.450\n",
      "1           2707.3510    856.781      3.160      0.002    1027.973    4386.729\n",
      "2            -32.2139      5.110     -6.305      0.000     -42.229     -22.199\n",
      "==============================================================================\n",
      "Omnibus:                    13524.954   Durbin-Watson:                   2.000\n",
      "Prob(Omnibus):                  0.000   Jarque-Bera (JB):           688358.429\n",
      "Skew:                           3.340   Prob(JB):                         0.00\n",
      "Kurtosis:                      33.193   Cond. No.                     1.28e+03\n",
      "==============================================================================\n",
      "\n",
      "Warnings:\n",
      "[1] Standard Errors assume that the covariance matrix of the errors is correctly specified.\n",
      "[2] The condition number is large, 1.28e+03. This might indicate that there are\n",
      "strong multicollinearity or other numerical problems.\n"
     ]
    }
   ],
   "source": [
    "print(result.summary())"
   ]
  },
  {
   "cell_type": "code",
   "execution_count": 18,
   "metadata": {},
   "outputs": [],
   "source": [
    "y_pred = result.predict(x_test)"
   ]
  },
  {
   "cell_type": "code",
   "execution_count": 19,
   "metadata": {},
   "outputs": [
    {
     "data": {
      "image/png": "[encoded data removed]",
      "text/plain": [
       "<Figure size 864x720 with 1 Axes>"
      ]
     },
     "metadata": {
      "needs_background": "light"
     },
     "output_type": "display_data"
    }
   ],
   "source": [
    "plt.figure(figsize = (12,10))\n",
    "\n",
    "plt.scatter(y_test.values, y_pred)\n",
    "\n",
    "plt.show()"
   ]
  },
  {
   "cell_type": "markdown",
   "metadata": {},
   "source": [
    "# Hyperparameter Tuning"
   ]
  },
  {
   "cell_type": "code",
   "execution_count": 20,
   "metadata": {},
   "outputs": [
    {
     "data": {
      "text/plain": [
       "['bedrooms',\n",
       " 'bathrooms',\n",
       " 'sqft_living',\n",
       " 'sqft_lot',\n",
       " 'floors',\n",
       " 'waterfront',\n",
       " 'view',\n",
       " 'condition',\n",
       " 'grade',\n",
       " 'sqft_above',\n",
       " 'sqft_basement',\n",
       " 'lat',\n",
       " 'long',\n",
       " 'sqft_living15',\n",
       " 'sqft_lot15',\n",
       " 'age',\n",
       " 'renovated']"
      ]
     },
     "execution_count": 20,
     "metadata": {},
     "output_type": "execute_result"
    }
   ],
   "source": [
    "FEATURES = list(housesale_df.columns[1:18])\n",
    "\n",
    "FEATURES"
   ]
  },
  {
   "cell_type": "code",
   "execution_count": 21,
   "metadata": {},
   "outputs": [],
   "source": [
    "def build_model(regression_fn,                \n",
    "                target, \n",
    "                features, \n",
    "                dataset,\n",
    "                preprocess_fn,\n",
    "                *hyperparameters):\n",
    "    \n",
    "    X = dataset[features]\n",
    "    Y = dataset[target]\n",
    "\n",
    "    X = preprocess_fn(X, Y, *hyperparameters)\n",
    "\n",
    "    x_train, x_test, y_train, y_test = train_test_split(X, Y, test_size=0.2)\n",
    "    \n",
    "    model = regression_fn(x_train, y_train)\n",
    "    \n",
    "    y_pred = model.predict(x_test)\n",
    "    \n",
    "    return {\n",
    "            'x_train' : x_train,\n",
    "            'x_test'  : x_test, \n",
    "            'y_train' : y_train,\n",
    "            'y_test'  : y_test,\n",
    "            'y_pred'  : y_pred,\n",
    "            'model'   : model\n",
    "           }     "
   ]
  },
  {
   "cell_type": "code",
   "execution_count": 22,
   "metadata": {},
   "outputs": [],
   "source": [
    "def compare_results(result_dict):\n",
    "    \n",
    "    for key in result_dict:\n",
    "        print('Test : ', key)\n",
    "        print('R-Squared', result_dict[key]['rsquared'])\n",
    "        print('Adjusted R-Squared', result_dict[key]['adj_rsquared'])\n",
    "        print()\n",
    "        \n",
    "    n_components = list(range(1, 18))\n",
    "    reg_score = [result_dict[key]['adj_rsquared'] for key in result_dict]\n",
    "\n",
    "    plt.figure(figsize = (12, 10))\n",
    "    plt.plot(n_components, reg_score)\n",
    "\n",
    "    pylab.ylim([0,1])\n",
    "    \n",
    "    plt.xlabel('n components')\n",
    "    plt.ylabel('adj_rsquared');"
   ]
  },
  {
   "cell_type": "code",
   "execution_count": 23,
   "metadata": {},
   "outputs": [],
   "source": [
    "def get_model_scores(model_params):\n",
    "    \n",
    "    result_dict = {}\n",
    "\n",
    "    for key in model_params:\n",
    "        result_dict[key] = {\n",
    "                            'rsquared' : model_params[key]['model'].rsquared,\n",
    "                            'adj_rsquared': model_params[key]['model'].rsquared_adj\n",
    "                           }\n",
    "        \n",
    "    compare_results(result_dict)"
   ]
  },
  {
   "cell_type": "code",
   "execution_count": 24,
   "metadata": {},
   "outputs": [],
   "source": [
    "def ols_reg(x_train, y_train):\n",
    "    \n",
    "    ols = sm.OLS(y_train, x_train)\n",
    "    \n",
    "    model = ols.fit()\n",
    "    \n",
    "    return model"
   ]
  },
  {
   "cell_type": "code",
   "execution_count": 25,
   "metadata": {},
   "outputs": [],
   "source": [
    "from sklearn.feature_selection import f_regression, SelectKBest\n",
    "\n",
    "def apply_f_regression(x, y, k, add_constant = False):\n",
    "    \n",
    "    select_features = SelectKBest(f_regression, k = k)\n",
    "    x_new = select_features.fit_transform(x, y)\n",
    "    \n",
    "    if add_constant is True:\n",
    "        x_new = sm.add_constant(x_new)\n",
    "        \n",
    "    return pd.DataFrame(x_new)"
   ]
  },
  {
   "cell_type": "code",
   "execution_count": 26,
   "metadata": {},
   "outputs": [],
   "source": [
    "model_params = {}\n",
    "\n",
    "for i in range (1, 18):\n",
    "    model_params['f_regression - k:' + str(i)] = build_model(ols_reg,\n",
    "                                                             'price',\n",
    "                                                              FEATURES,\n",
    "                                                              housesale_df,\n",
    "                                                              apply_f_regression,\n",
    "                                                              i,\n",
    "                                                              True)"
   ]
  },
  {
   "cell_type": "code",
   "execution_count": 27,
   "metadata": {},
   "outputs": [
    {
     "name": "stdout",
     "output_type": "stream",
     "text": [
      "Test :  f_regression - k:1\n",
      "R-Squared 0.4912872989731003\n",
      "Adjusted R-Squared 0.4912578510598715\n",
      "\n",
      "Test :  f_regression - k:2\n",
      "R-Squared 0.5347084800409965\n",
      "Adjusted R-Squared 0.5346546081502985\n",
      "\n",
      "Test :  f_regression - k:3\n",
      "R-Squared 0.5449249417197923\n",
      "Adjusted R-Squared 0.5448459036155348\n",
      "\n",
      "Test :  f_regression - k:4\n",
      "R-Squared 0.5444190330448788\n",
      "Adjusted R-Squared 0.5443135256416932\n",
      "\n",
      "Test :  f_regression - k:5\n",
      "R-Squared 0.5479559962553044\n",
      "Adjusted R-Squared 0.5478251283253222\n",
      "\n",
      "Test :  f_regression - k:6\n",
      "R-Squared 0.5741837605693674\n",
      "Adjusted R-Squared 0.5740358220959114\n",
      "\n",
      "Test :  f_regression - k:7\n",
      "R-Squared 0.5805591215864006\n",
      "Adjusted R-Squared 0.5804133980617636\n",
      "\n",
      "Test :  f_regression - k:8\n",
      "R-Squared 0.5825136098422058\n",
      "Adjusted R-Squared 0.5823443814716514\n",
      "\n",
      "Test :  f_regression - k:9\n",
      "R-Squared 0.6401075472065142\n",
      "Adjusted R-Squared 0.6399408145436494\n",
      "\n",
      "Test :  f_regression - k:10\n",
      "R-Squared 0.6569588223805273\n",
      "Adjusted R-Squared 0.6567800205852776\n",
      "\n",
      "Test :  f_regression - k:11\n",
      "R-Squared 0.6621897625419484\n",
      "Adjusted R-Squared 0.6619941119932062\n",
      "\n",
      "Test :  f_regression - k:12\n",
      "R-Squared 0.6608484343926895\n",
      "Adjusted R-Squared 0.6606323517270839\n",
      "\n",
      "Test :  f_regression - k:13\n",
      "R-Squared 0.6650624812419708\n",
      "Adjusted R-Squared 0.6648296701770324\n",
      "\n",
      "Test :  f_regression - k:14\n",
      "R-Squared 0.6633560422272708\n",
      "Adjusted R-Squared 0.6631025305867075\n",
      "\n",
      "Test :  f_regression - k:15\n",
      "R-Squared 0.6902026488033175\n",
      "Adjusted R-Squared 0.6899513938550639\n",
      "\n",
      "Test :  f_regression - k:16\n",
      "R-Squared 0.6939243527039316\n",
      "Adjusted R-Squared 0.6936583695795795\n",
      "\n",
      "Test :  f_regression - k:17\n",
      "R-Squared 0.6965091474831965\n",
      "Adjusted R-Squared 0.696227811814583\n",
      "\n"
     ]
    },
    {
     "data": {
      "image/png": "[encoded data removed]",
      "text/plain": [
       "<Figure size 864x720 with 1 Axes>"
      ]
     },
     "metadata": {
      "needs_background": "light"
     },
     "output_type": "display_data"
    }
   ],
   "source": [
    "get_model_scores(model_params)"
   ]
  },
  {
   "cell_type": "markdown",
   "metadata": {},
   "source": [
    "# Sklearn Regression Model"
   ]
  },
  {
   "cell_type": "code",
   "execution_count": 28,
   "metadata": {},
   "outputs": [],
   "source": [
    "def linear_reg(x_train, y_train):\n",
    "    \n",
    "    model = LinearRegression().fit(x_train, y_train)\n",
    "    \n",
    "    return model"
   ]
  },
  {
   "cell_type": "code",
   "execution_count": 29,
   "metadata": {},
   "outputs": [],
   "source": [
    "sklearn_model = {}\n",
    "\n",
    "sklearn_model['f_regression'] = build_model(linear_reg,\n",
    "                                          'price',\n",
    "                                           FEATURES,\n",
    "                                           housesale_df,\n",
    "                                           apply_f_regression,\n",
    "                                           9)"
   ]
  },
  {
   "cell_type": "markdown",
   "metadata": {},
   "source": [
    "### Evaluate Model"
   ]
  },
  {
   "cell_type": "code",
   "execution_count": 30,
   "metadata": {},
   "outputs": [],
   "source": [
    "model   = sklearn_model['f_regression']['model']\n",
    "x_train = sklearn_model['f_regression']['x_train']\n",
    "x_test  = sklearn_model['f_regression']['x_test']\n",
    "y_train = sklearn_model['f_regression']['y_train']\n",
    "y_test  = sklearn_model['f_regression']['y_test']\n",
    "y_pred  = sklearn_model['f_regression']['y_pred']"
   ]
  },
  {
   "cell_type": "code",
   "execution_count": 31,
   "metadata": {
    "scrolled": true
   },
   "outputs": [
    {
     "name": "stdout",
     "output_type": "stream",
     "text": [
      "Training score:  0.6386312630037412\n",
      "Testing score:  0.6458403220248414\n"
     ]
    }
   ],
   "source": [
    "print('Training score: ', model.score(x_train, y_train))\n",
    "print('Testing score: ', r2_score(y_test, y_pred))"
   ]
  },
  {
   "cell_type": "code",
   "execution_count": 32,
   "metadata": {
    "scrolled": true
   },
   "outputs": [
    {
     "data": {
      "image/png": "[encoded data removed]",
      "text/plain": [
       "<Figure size 864x720 with 1 Axes>"
      ]
     },
     "metadata": {
      "needs_background": "light"
     },
     "output_type": "display_data"
    }
   ],
   "source": [
    "plt.figure(figsize = (12, 10))\n",
    "\n",
    "plt.scatter(y_test.values, y_pred)\n",
    "\n",
    "plt.show()"
   ]
  },
  {
   "cell_type": "markdown",
   "metadata": {},
   "source": [
    "## Feature Selection : mutual_info_regression\n",
    "*  mutual_info_regression : Estimate mutual information for a continuous target variable.\n",
    "* Mutual information between two random variables is a non-negative value, which measures the dependency between the variables. \n",
    "* It is equal to zero if and only if two random variables are independent, and higher values mean higher dependency.\n",
    "\n",
    "https://scikit-learn.org/stable/modules/generated/sklearn.feature_selection.mutual_info_regression.html#sklearn.feature_selection.mutual_info_regression"
   ]
  },
  {
   "cell_type": "code",
   "execution_count": 33,
   "metadata": {},
   "outputs": [],
   "source": [
    "from sklearn.feature_selection import mutual_info_regression\n",
    "\n",
    "def apply_mutual_info_regression(x, y, k, add_constant = False):\n",
    "    \n",
    "    select_features = SelectKBest(mutual_info_regression, k = k)  \n",
    "    x_new = select_features.fit_transform(x, y)\n",
    "    \n",
    "    if add_constant is True:\n",
    "        x_new = sm.add_constant(x_new)\n",
    "\n",
    "    return pd.DataFrame(x_new)"
   ]
  },
  {
   "cell_type": "code",
   "execution_count": 34,
   "metadata": {},
   "outputs": [],
   "source": [
    "model_params = {}\n",
    "\n",
    "for i in range (1, 18):\n",
    "    model_params['mutual_info_regression - k:' + str(i)] = build_model(ols_reg,\n",
    "                                                                      'price',\n",
    "                                                                       FEATURES,\n",
    "                                                                       housesale_df,\n",
    "                                                                       apply_mutual_info_regression,\n",
    "                                                                       i,\n",
    "                                                                       True)"
   ]
  },
  {
   "cell_type": "code",
   "execution_count": 35,
   "metadata": {},
   "outputs": [
    {
     "name": "stdout",
     "output_type": "stream",
     "text": [
      "Test :  mutual_info_regression - k:1\n",
      "R-Squared 0.48600462300876224\n",
      "Adjusted R-Squared 0.48597486929663536\n",
      "\n",
      "Test :  mutual_info_regression - k:2\n",
      "R-Squared 0.5401593668756732\n",
      "Adjusted R-Squared 0.5401061260937902\n",
      "\n",
      "Test :  mutual_info_regression - k:3\n",
      "R-Squared 0.5901509262812292\n",
      "Adjusted R-Squared 0.5900797430923705\n",
      "\n",
      "Test :  mutual_info_regression - k:4\n",
      "R-Squared 0.5983817872389174\n",
      "Adjusted R-Squared 0.5982887769997416\n",
      "\n",
      "Test :  mutual_info_regression - k:5\n",
      "R-Squared 0.6020206936958196\n",
      "Adjusted R-Squared 0.6019054776381784\n",
      "\n",
      "Test :  mutual_info_regression - k:6\n",
      "R-Squared 0.5997679318691977\n",
      "Adjusted R-Squared 0.5996288819323834\n",
      "\n",
      "Test :  mutual_info_regression - k:7\n",
      "R-Squared 0.6133625971634484\n",
      "Adjusted R-Squared 0.6132058734492869\n",
      "\n",
      "Test :  mutual_info_regression - k:8\n",
      "R-Squared 0.6122552365625993\n",
      "Adjusted R-Squared 0.6120756003506755\n",
      "\n",
      "Test :  mutual_info_regression - k:9\n",
      "R-Squared 0.6195833247655368\n",
      "Adjusted R-Squared 0.6193850419093887\n",
      "\n",
      "Test :  mutual_info_regression - k:10\n",
      "R-Squared 0.6548388337591036\n",
      "Adjusted R-Squared 0.654638925751319\n",
      "\n",
      "Test :  mutual_info_regression - k:11\n",
      "R-Squared 0.6556788859715569\n",
      "Adjusted R-Squared 0.6554595096463722\n",
      "\n",
      "Test :  mutual_info_regression - k:12\n",
      "R-Squared 0.6576164920160583\n",
      "Adjusted R-Squared 0.6573983501922631\n",
      "\n",
      "Test :  mutual_info_regression - k:13\n",
      "R-Squared 0.6568920902263722\n",
      "Adjusted R-Squared 0.65665360002032\n",
      "\n",
      "Test :  mutual_info_regression - k:14\n",
      "R-Squared 0.6776862649459909\n",
      "Adjusted R-Squared 0.6774435447608724\n",
      "\n",
      "Test :  mutual_info_regression - k:15\n",
      "R-Squared 0.6894384502970102\n",
      "Adjusted R-Squared 0.6891865755608358\n",
      "\n",
      "Test :  mutual_info_regression - k:16\n",
      "R-Squared 0.6933804587172012\n",
      "Adjusted R-Squared 0.6931140029429563\n",
      "\n",
      "Test :  mutual_info_regression - k:17\n",
      "R-Squared 0.6962023840646785\n",
      "Adjusted R-Squared 0.6959207640267315\n",
      "\n"
     ]
    },
    {
     "data": {
      "image/png": "[encoded data removed]",
      "text/plain": [
       "<Figure size 864x720 with 1 Axes>"
      ]
     },
     "metadata": {
      "needs_background": "light"
     },
     "output_type": "display_data"
    }
   ],
   "source": [
    "get_model_scores(model_params)"
   ]
  },
  {
   "cell_type": "markdown",
   "metadata": {},
   "source": [
    "# Sklearn Regression Model"
   ]
  },
  {
   "cell_type": "code",
   "execution_count": 40,
   "metadata": {},
   "outputs": [],
   "source": [
    "sklearn_model = {}\n",
    "\n",
    "sklearn_model['mutual_info_regression'] = build_model(linear_reg,\n",
    "                                                      'price',\n",
    "                                                       FEATURES,\n",
    "                                                       housesale_df,\n",
    "                                                       apply_mutual_info_regression,\n",
    "                                                       10)"
   ]
  },
  {
   "cell_type": "markdown",
   "metadata": {},
   "source": [
    "### Evaluate Model"
   ]
  },
  {
   "cell_type": "code",
   "execution_count": 41,
   "metadata": {},
   "outputs": [],
   "source": [
    "model   = sklearn_model['mutual_info_regression']['model']\n",
    "x_train = sklearn_model['mutual_info_regression']['x_train']\n",
    "x_test  = sklearn_model['mutual_info_regression']['x_test']\n",
    "y_train = sklearn_model['mutual_info_regression']['y_train']\n",
    "y_test  = sklearn_model['mutual_info_regression']['y_test']\n",
    "y_pred  = sklearn_model['mutual_info_regression']['y_pred']"
   ]
  },
  {
   "cell_type": "code",
   "execution_count": 42,
   "metadata": {},
   "outputs": [
    {
     "name": "stdout",
     "output_type": "stream",
     "text": [
      "Training score:  0.6263337569797154\n",
      "Testing score:  0.6067750042631465\n"
     ]
    }
   ],
   "source": [
    "print('Training score: ', model.score(x_train, y_train))\n",
    "print('Testing score: ', r2_score(y_test, y_pred))"
   ]
  },
  {
   "cell_type": "code",
   "execution_count": 43,
   "metadata": {
    "scrolled": true
   },
   "outputs": [
    {
     "data": {
      "image/png": "[encoded data removed]",
      "text/plain": [
       "<Figure size 864x720 with 1 Axes>"
      ]
     },
     "metadata": {
      "needs_background": "light"
     },
     "output_type": "display_data"
    }
   ],
   "source": [
    "plt.figure(figsize = (12, 10))\n",
    "\n",
    "plt.scatter(y_test.values, y_pred)\n",
    "\n",
    "plt.show()"
   ]
  },
  {
   "cell_type": "code",
   "execution_count": null,
   "metadata": {},
   "outputs": [],
   "source": []
  },
  {
   "cell_type": "code",
   "execution_count": null,
   "metadata": {},
   "outputs": [],
   "source": []
  }
 ],
 "metadata": {
  "kernelspec": {
   "display_name": "Python 3",
   "language": "python",
   "name": "python3"
  },
  "language_info": {
   "codemirror_mode": {
    "name": "ipython",
    "version": 3
   },
   "file_extension": ".py",
   "mimetype": "text/x-python",
   "name": "python",
   "nbconvert_exporter": "python",
   "pygments_lexer": "ipython3",
   "version": "3.7.6"
  }
 },
 "nbformat": 4,
 "nbformat_minor": 2
}
