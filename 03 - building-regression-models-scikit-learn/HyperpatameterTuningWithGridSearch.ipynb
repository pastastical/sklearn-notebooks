{
 "cells": [
  {
   "cell_type": "code",
   "execution_count": 1,
   "metadata": {},
   "outputs": [],
   "source": [
    "%reset -f\n",
    "import pandas as pd\n",
    "import numpy as np\n",
    "import matplotlib.pyplot as plt\n",
    "\n",
    "from sklearn.model_selection import train_test_split\n",
    "from sklearn.metrics import r2_score\n",
    "from sklearn.preprocessing import StandardScaler\n",
    "from sklearn.linear_model import Lasso\n",
    "from sklearn.neighbors import KNeighborsRegressor\n",
    "from sklearn.tree import DecisionTreeRegressor\n",
    "from sklearn.svm import SVR\n",
    "\n",
    "from sklearn.model_selection import GridSearchCV\n",
    "import warnings\n",
    "warnings.filterwarnings('ignore')"
   ]
  },
  {
   "cell_type": "code",
   "execution_count": 2,
   "metadata": {},
   "outputs": [
    {
     "data": {
      "text/html": [
       "<div>\n",
       "<style scoped>\n",
       "    .dataframe tbody tr th:only-of-type {\n",
       "        vertical-align: middle;\n",
       "    }\n",
       "\n",
       "    .dataframe tbody tr th {\n",
       "        vertical-align: top;\n",
       "    }\n",
       "\n",
       "    .dataframe thead th {\n",
       "        text-align: right;\n",
       "    }\n",
       "</style>\n",
       "<table border=\"1\" class=\"dataframe\">\n",
       "  <thead>\n",
       "    <tr style=\"text-align: right;\">\n",
       "      <th></th>\n",
       "      <th>mpg</th>\n",
       "      <th>cylinders</th>\n",
       "      <th>displacement</th>\n",
       "      <th>horsepower</th>\n",
       "      <th>weight</th>\n",
       "      <th>acceleration</th>\n",
       "      <th>age</th>\n",
       "    </tr>\n",
       "  </thead>\n",
       "  <tbody>\n",
       "    <tr>\n",
       "      <td>0</td>\n",
       "      <td>31.5</td>\n",
       "      <td>4</td>\n",
       "      <td>98.0</td>\n",
       "      <td>68</td>\n",
       "      <td>2045</td>\n",
       "      <td>18.5</td>\n",
       "      <td>43</td>\n",
       "    </tr>\n",
       "    <tr>\n",
       "      <td>1</td>\n",
       "      <td>16.0</td>\n",
       "      <td>8</td>\n",
       "      <td>400.0</td>\n",
       "      <td>230</td>\n",
       "      <td>4278</td>\n",
       "      <td>9.5</td>\n",
       "      <td>47</td>\n",
       "    </tr>\n",
       "    <tr>\n",
       "      <td>2</td>\n",
       "      <td>23.0</td>\n",
       "      <td>4</td>\n",
       "      <td>120.0</td>\n",
       "      <td>88</td>\n",
       "      <td>2957</td>\n",
       "      <td>17.0</td>\n",
       "      <td>45</td>\n",
       "    </tr>\n",
       "    <tr>\n",
       "      <td>3</td>\n",
       "      <td>25.0</td>\n",
       "      <td>4</td>\n",
       "      <td>110.0</td>\n",
       "      <td>87</td>\n",
       "      <td>2672</td>\n",
       "      <td>17.5</td>\n",
       "      <td>50</td>\n",
       "    </tr>\n",
       "    <tr>\n",
       "      <td>4</td>\n",
       "      <td>22.0</td>\n",
       "      <td>6</td>\n",
       "      <td>250.0</td>\n",
       "      <td>105</td>\n",
       "      <td>3353</td>\n",
       "      <td>14.5</td>\n",
       "      <td>44</td>\n",
       "    </tr>\n",
       "  </tbody>\n",
       "</table>\n",
       "</div>"
      ],
      "text/plain": [
       "    mpg  cylinders  displacement  horsepower  weight  acceleration  age\n",
       "0  31.5          4          98.0          68    2045          18.5   43\n",
       "1  16.0          8         400.0         230    4278           9.5   47\n",
       "2  23.0          4         120.0          88    2957          17.0   45\n",
       "3  25.0          4         110.0          87    2672          17.5   50\n",
       "4  22.0          6         250.0         105    3353          14.5   44"
      ]
     },
     "execution_count": 2,
     "metadata": {},
     "output_type": "execute_result"
    }
   ],
   "source": [
    "## import data\n",
    "automobile_df = pd.read_csv('datasets/auto-mpg-processed2.csv')\n",
    "automobile_df.head().drop('Unnamed: 0',axis=1)"
   ]
  },
  {
   "cell_type": "code",
   "execution_count": 3,
   "metadata": {},
   "outputs": [],
   "source": [
    "## split data into training and testing set\n",
    "X = automobile_df.drop(['mpg','age'],axis=1)\n",
    "Y = automobile_df['mpg']\n",
    "x_train, x_test, y_train, y_test = train_test_split(X, Y, test_size=0.2)\n"
   ]
  },
  {
   "cell_type": "code",
   "execution_count": 4,
   "metadata": {},
   "outputs": [
    {
     "data": {
      "text/plain": [
       "{'alpha': 1.0}"
      ]
     },
     "execution_count": 4,
     "metadata": {},
     "output_type": "execute_result"
    }
   ],
   "source": [
    "## use grid_search to evaluate the best alpha parameter,\n",
    "## cv =3 means 3 fold progression, splits test data into three parts and train in chunks\n",
    "parameters ={'alpha':[.2, .4, .6,.7,.8,.9,1.0]}\n",
    "grid_search = GridSearchCV(Lasso(), parameters, cv=3, return_train_score=True)\n",
    "grid_search.fit(x_train, y_train)\n",
    "grid_search.best_params_"
   ]
  },
  {
   "cell_type": "code",
   "execution_count": 5,
   "metadata": {
    "scrolled": true
   },
   "outputs": [
    {
     "name": "stdout",
     "output_type": "stream",
     "text": [
      "Parameters:  {'alpha': 0.2}\n",
      "Mean Test Score:  0.7000481835152299\n",
      "Rank:  7\n",
      "Parameters:  {'alpha': 0.4}\n",
      "Mean Test Score:  0.7007670410763729\n",
      "Rank:  6\n",
      "Parameters:  {'alpha': 0.6}\n",
      "Mean Test Score:  0.7009927700302261\n",
      "Rank:  5\n",
      "Parameters:  {'alpha': 0.7}\n",
      "Mean Test Score:  0.7011079491141337\n",
      "Rank:  4\n",
      "Parameters:  {'alpha': 0.8}\n",
      "Mean Test Score:  0.7012183054464596\n",
      "Rank:  3\n",
      "Parameters:  {'alpha': 0.9}\n",
      "Mean Test Score:  0.7013242919681165\n",
      "Rank:  2\n",
      "Parameters:  {'alpha': 1.0}\n",
      "Mean Test Score:  0.7014274307760663\n",
      "Rank:  1\n"
     ]
    }
   ],
   "source": [
    "## compare results\n",
    "for i in range(len(parameters['alpha'])):\n",
    "    print('Parameters: ',grid_search.cv_results_['params'][i])\n",
    "    print('Mean Test Score: ', grid_search.cv_results_['mean_test_score'][i])\n",
    "    print('Rank: ',grid_search.cv_results_['rank_test_score'][i])"
   ]
  },
  {
   "cell_type": "code",
   "execution_count": 6,
   "metadata": {},
   "outputs": [
    {
     "name": "stdout",
     "output_type": "stream",
     "text": [
      "Training Score:  0.7147474965419156\n",
      "Test score:  0.6687866538415967\n"
     ]
    }
   ],
   "source": [
    "lasso_model = Lasso(alpha=grid_search.best_params_['alpha']).fit(x_train, y_train)\n",
    "y_pred = lasso_model.predict(x_test)\n",
    "print('Training Score: ',lasso_model.score(x_train, y_train))\n",
    "print('Test score: ', r2_score(y_test, y_pred))"
   ]
  },
  {
   "cell_type": "code",
   "execution_count": 7,
   "metadata": {},
   "outputs": [
    {
     "data": {
      "text/plain": [
       "{'n_neighbors': 18}"
      ]
     },
     "execution_count": 7,
     "metadata": {},
     "output_type": "execute_result"
    }
   ],
   "source": [
    "parameters = {'n_neighbors':[10,12,14,18,20,25,30,35,50]}\n",
    "grid_search = GridSearchCV(KNeighborsRegressor(), parameters, cv=3, return_train_score=True)\n",
    "grid_search.fit(x_train, y_train)\n",
    "grid_search.best_params_"
   ]
  },
  {
   "cell_type": "code",
   "execution_count": 8,
   "metadata": {
    "scrolled": true
   },
   "outputs": [
    {
     "name": "stdout",
     "output_type": "stream",
     "text": [
      "Parameters:  {'n_neighbors': 10}\n",
      "Mean Test Score:  0.6991105060665317\n",
      "Rank:  9\n",
      "Parameters:  {'n_neighbors': 12}\n",
      "Mean Test Score:  0.7050768664520228\n",
      "Rank:  8\n",
      "Parameters:  {'n_neighbors': 14}\n",
      "Mean Test Score:  0.7135829426069221\n",
      "Rank:  6\n",
      "Parameters:  {'n_neighbors': 18}\n",
      "Mean Test Score:  0.7229515769228616\n",
      "Rank:  1\n",
      "Parameters:  {'n_neighbors': 20}\n",
      "Mean Test Score:  0.7191343059770035\n",
      "Rank:  3\n",
      "Parameters:  {'n_neighbors': 25}\n",
      "Mean Test Score:  0.7194534237877378\n",
      "Rank:  2\n",
      "Parameters:  {'n_neighbors': 30}\n",
      "Mean Test Score:  0.7162570990416441\n",
      "Rank:  5\n",
      "Parameters:  {'n_neighbors': 35}\n",
      "Mean Test Score:  0.7163068530357837\n",
      "Rank:  4\n",
      "Parameters:  {'n_neighbors': 50}\n",
      "Mean Test Score:  0.71021141268202\n",
      "Rank:  7\n"
     ]
    }
   ],
   "source": [
    "for i in range(len(parameters['n_neighbors'])):\n",
    "    print('Parameters: ',grid_search.cv_results_['params'][i])\n",
    "    print('Mean Test Score: ', grid_search.cv_results_['mean_test_score'][i])\n",
    "    print('Rank: ',grid_search.cv_results_['rank_test_score'][i])"
   ]
  },
  {
   "cell_type": "code",
   "execution_count": 9,
   "metadata": {},
   "outputs": [
    {
     "name": "stdout",
     "output_type": "stream",
     "text": [
      "Training Score:  0.7414146167822651\n",
      "Test score:  0.6577055073081235\n"
     ]
    }
   ],
   "source": [
    "kneighbors_mode = KNeighborsRegressor(n_neighbors=grid_search.best_params_['n_neighbors']).fit(x_train, y_train)\n",
    "y_pred = kneighbors_mode.predict(x_test)\n",
    "print('Training Score: ',kneighbors_mode.score(x_train, y_train))\n",
    "print('Test score: ', r2_score(y_test, y_pred))"
   ]
  },
  {
   "cell_type": "code",
   "execution_count": 10,
   "metadata": {},
   "outputs": [
    {
     "name": "stdout",
     "output_type": "stream",
     "text": [
      "{'max_depth': 3}\n",
      "\n",
      "Parameters:  {'max_depth': 1}\n",
      "Mean Test Score:  0.5414404628948626\n",
      "Rank:  8\n",
      "Parameters:  {'max_depth': 2}\n",
      "Mean Test Score:  0.6835368160432157\n",
      "Rank:  2\n",
      "Parameters:  {'max_depth': 3}\n",
      "Mean Test Score:  0.7061510903493284\n",
      "Rank:  1\n",
      "Parameters:  {'max_depth': 4}\n",
      "Mean Test Score:  0.6629506835355637\n",
      "Rank:  3\n",
      "Parameters:  {'max_depth': 5}\n",
      "Mean Test Score:  0.6509829541435367\n",
      "Rank:  4\n",
      "Parameters:  {'max_depth': 6}\n",
      "Mean Test Score:  0.6264782139831313\n",
      "Rank:  5\n",
      "Parameters:  {'max_depth': 7}\n",
      "Mean Test Score:  0.6256292228526943\n",
      "Rank:  6\n",
      "Parameters:  {'max_depth': 8}\n",
      "Mean Test Score:  0.6053689472492119\n",
      "Rank:  7\n",
      "\n",
      "Training Score:  0.7414146167822651\n",
      "Test score:  0.6577055073081235\n"
     ]
    }
   ],
   "source": [
    "parameters = {'max_depth':[1,2,3,4,5,6,7,8]}\n",
    "grid_search = GridSearchCV(DecisionTreeRegressor(), parameters, cv=3, return_train_score=True)\n",
    "grid_search.fit(x_train, y_train)\n",
    "print(grid_search.best_params_)\n",
    "print()\n",
    "for i in range(len(parameters['max_depth'])):\n",
    "    print('Parameters: ',grid_search.cv_results_['params'][i])\n",
    "    print('Mean Test Score: ', grid_search.cv_results_['mean_test_score'][i])\n",
    "    print('Rank: ',grid_search.cv_results_['rank_test_score'][i])\n",
    "decisiontree_model = DecisionTreeRegressor(max_depth=grid_search.best_params_['max_depth']).fit(x_train, y_train)\n",
    "y_pred = decisiontree_model.predict(x_test)\n",
    "print()\n",
    "print('Training Score: ',kneighbors_mode.score(x_train, y_train))\n",
    "print('Test score: ', r2_score(y_test, y_pred))"
   ]
  },
  {
   "cell_type": "code",
   "execution_count": 11,
   "metadata": {},
   "outputs": [
    {
     "data": {
      "text/plain": [
       "{'C': 0.3, 'epsilon': 0.05}"
      ]
     },
     "execution_count": 11,
     "metadata": {},
     "output_type": "execute_result"
    }
   ],
   "source": [
    "## multiple hyper parameters\n",
    "parameters = {'epsilon':[.05,.1,.2,.3],\n",
    "             'C':[.2,.3]}\n",
    "grid_search = GridSearchCV(SVR(kernel='linear'),parameters, cv=3,return_train_score=True)\n",
    "grid_search.fit(x_train, y_train)\n",
    "grid_search.best_params_"
   ]
  },
  {
   "cell_type": "code",
   "execution_count": 14,
   "metadata": {},
   "outputs": [
    {
     "name": "stdout",
     "output_type": "stream",
     "text": [
      "\n",
      "Training Score:  0.7112242850530315\n",
      "Test score:  0.6635248547412111\n"
     ]
    }
   ],
   "source": [
    "svr_model = SVR(kernel='linear',epsilon=grid_search.best_params_['epsilon'],C=grid_search.best_params_['C']).fit(x_train,y_train)\n",
    "y_pred = svr_model.predict(x_test)\n",
    "print()\n",
    "print('Training Score: ',svr_model.score(x_train, y_train))\n",
    "print('Test score: ', r2_score(y_test, y_pred))"
   ]
  },
  {
   "cell_type": "code",
   "execution_count": null,
   "metadata": {},
   "outputs": [],
   "source": []
  }
 ],
 "metadata": {
  "kernelspec": {
   "display_name": "Python 3",
   "language": "python",
   "name": "python3"
  },
  "language_info": {
   "codemirror_mode": {
    "name": "ipython",
    "version": 3
   },
   "file_extension": ".py",
   "mimetype": "text/x-python",
   "name": "python",
   "nbconvert_exporter": "python",
   "pygments_lexer": "ipython3",
   "version": "3.7.4"
  }
 },
 "nbformat": 4,
 "nbformat_minor": 2
}
