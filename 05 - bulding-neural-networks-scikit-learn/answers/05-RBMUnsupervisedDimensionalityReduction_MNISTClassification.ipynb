{
 "cells": [
  {
   "cell_type": "code",
   "execution_count": 1,
   "metadata": {},
   "outputs": [],
   "source": [
    "import pandas as pd\n",
    "import numpy as np\n",
    "import matplotlib.pyplot as plt\n",
    "\n",
    "from sklearn import linear_model, metrics\n",
    "from sklearn.model_selection import train_test_split\n",
    "\n",
    "from sklearn.neural_network import BernoulliRBM\n",
    "from sklearn.pipeline import Pipeline\n",
    "from sklearn.base import clone"
   ]
  },
  {
   "cell_type": "code",
   "execution_count": 2,
   "metadata": {},
   "outputs": [],
   "source": [
    "mnist_data = pd.read_csv('../datasets/mnist.csv')"
   ]
  },
  {
   "cell_type": "code",
   "execution_count": 3,
   "metadata": {},
   "outputs": [
    {
     "data": {
      "text/html": [
       "<div>\n",
       "<style scoped>\n",
       "    .dataframe tbody tr th:only-of-type {\n",
       "        vertical-align: middle;\n",
       "    }\n",
       "\n",
       "    .dataframe tbody tr th {\n",
       "        vertical-align: top;\n",
       "    }\n",
       "\n",
       "    .dataframe thead th {\n",
       "        text-align: right;\n",
       "    }\n",
       "</style>\n",
       "<table border=\"1\" class=\"dataframe\">\n",
       "  <thead>\n",
       "    <tr style=\"text-align: right;\">\n",
       "      <th></th>\n",
       "      <th>label</th>\n",
       "      <th>pixel0</th>\n",
       "      <th>pixel1</th>\n",
       "      <th>pixel2</th>\n",
       "      <th>pixel3</th>\n",
       "      <th>pixel4</th>\n",
       "      <th>pixel5</th>\n",
       "      <th>pixel6</th>\n",
       "      <th>pixel7</th>\n",
       "      <th>pixel8</th>\n",
       "      <th>...</th>\n",
       "      <th>pixel774</th>\n",
       "      <th>pixel775</th>\n",
       "      <th>pixel776</th>\n",
       "      <th>pixel777</th>\n",
       "      <th>pixel778</th>\n",
       "      <th>pixel779</th>\n",
       "      <th>pixel780</th>\n",
       "      <th>pixel781</th>\n",
       "      <th>pixel782</th>\n",
       "      <th>pixel783</th>\n",
       "    </tr>\n",
       "  </thead>\n",
       "  <tbody>\n",
       "    <tr>\n",
       "      <th>0</th>\n",
       "      <td>1</td>\n",
       "      <td>0</td>\n",
       "      <td>0</td>\n",
       "      <td>0</td>\n",
       "      <td>0</td>\n",
       "      <td>0</td>\n",
       "      <td>0</td>\n",
       "      <td>0</td>\n",
       "      <td>0</td>\n",
       "      <td>0</td>\n",
       "      <td>...</td>\n",
       "      <td>0</td>\n",
       "      <td>0</td>\n",
       "      <td>0</td>\n",
       "      <td>0</td>\n",
       "      <td>0</td>\n",
       "      <td>0</td>\n",
       "      <td>0</td>\n",
       "      <td>0</td>\n",
       "      <td>0</td>\n",
       "      <td>0</td>\n",
       "    </tr>\n",
       "    <tr>\n",
       "      <th>1</th>\n",
       "      <td>0</td>\n",
       "      <td>0</td>\n",
       "      <td>0</td>\n",
       "      <td>0</td>\n",
       "      <td>0</td>\n",
       "      <td>0</td>\n",
       "      <td>0</td>\n",
       "      <td>0</td>\n",
       "      <td>0</td>\n",
       "      <td>0</td>\n",
       "      <td>...</td>\n",
       "      <td>0</td>\n",
       "      <td>0</td>\n",
       "      <td>0</td>\n",
       "      <td>0</td>\n",
       "      <td>0</td>\n",
       "      <td>0</td>\n",
       "      <td>0</td>\n",
       "      <td>0</td>\n",
       "      <td>0</td>\n",
       "      <td>0</td>\n",
       "    </tr>\n",
       "    <tr>\n",
       "      <th>2</th>\n",
       "      <td>1</td>\n",
       "      <td>0</td>\n",
       "      <td>0</td>\n",
       "      <td>0</td>\n",
       "      <td>0</td>\n",
       "      <td>0</td>\n",
       "      <td>0</td>\n",
       "      <td>0</td>\n",
       "      <td>0</td>\n",
       "      <td>0</td>\n",
       "      <td>...</td>\n",
       "      <td>0</td>\n",
       "      <td>0</td>\n",
       "      <td>0</td>\n",
       "      <td>0</td>\n",
       "      <td>0</td>\n",
       "      <td>0</td>\n",
       "      <td>0</td>\n",
       "      <td>0</td>\n",
       "      <td>0</td>\n",
       "      <td>0</td>\n",
       "    </tr>\n",
       "    <tr>\n",
       "      <th>3</th>\n",
       "      <td>4</td>\n",
       "      <td>0</td>\n",
       "      <td>0</td>\n",
       "      <td>0</td>\n",
       "      <td>0</td>\n",
       "      <td>0</td>\n",
       "      <td>0</td>\n",
       "      <td>0</td>\n",
       "      <td>0</td>\n",
       "      <td>0</td>\n",
       "      <td>...</td>\n",
       "      <td>0</td>\n",
       "      <td>0</td>\n",
       "      <td>0</td>\n",
       "      <td>0</td>\n",
       "      <td>0</td>\n",
       "      <td>0</td>\n",
       "      <td>0</td>\n",
       "      <td>0</td>\n",
       "      <td>0</td>\n",
       "      <td>0</td>\n",
       "    </tr>\n",
       "    <tr>\n",
       "      <th>4</th>\n",
       "      <td>0</td>\n",
       "      <td>0</td>\n",
       "      <td>0</td>\n",
       "      <td>0</td>\n",
       "      <td>0</td>\n",
       "      <td>0</td>\n",
       "      <td>0</td>\n",
       "      <td>0</td>\n",
       "      <td>0</td>\n",
       "      <td>0</td>\n",
       "      <td>...</td>\n",
       "      <td>0</td>\n",
       "      <td>0</td>\n",
       "      <td>0</td>\n",
       "      <td>0</td>\n",
       "      <td>0</td>\n",
       "      <td>0</td>\n",
       "      <td>0</td>\n",
       "      <td>0</td>\n",
       "      <td>0</td>\n",
       "      <td>0</td>\n",
       "    </tr>\n",
       "  </tbody>\n",
       "</table>\n",
       "<p>5 rows × 785 columns</p>\n",
       "</div>"
      ],
      "text/plain": [
       "   label  pixel0  pixel1  pixel2  pixel3  pixel4  pixel5  pixel6  pixel7  \\\n",
       "0      1       0       0       0       0       0       0       0       0   \n",
       "1      0       0       0       0       0       0       0       0       0   \n",
       "2      1       0       0       0       0       0       0       0       0   \n",
       "3      4       0       0       0       0       0       0       0       0   \n",
       "4      0       0       0       0       0       0       0       0       0   \n",
       "\n",
       "   pixel8  ...  pixel774  pixel775  pixel776  pixel777  pixel778  pixel779  \\\n",
       "0       0  ...         0         0         0         0         0         0   \n",
       "1       0  ...         0         0         0         0         0         0   \n",
       "2       0  ...         0         0         0         0         0         0   \n",
       "3       0  ...         0         0         0         0         0         0   \n",
       "4       0  ...         0         0         0         0         0         0   \n",
       "\n",
       "   pixel780  pixel781  pixel782  pixel783  \n",
       "0         0         0         0         0  \n",
       "1         0         0         0         0  \n",
       "2         0         0         0         0  \n",
       "3         0         0         0         0  \n",
       "4         0         0         0         0  \n",
       "\n",
       "[5 rows x 785 columns]"
      ]
     },
     "execution_count": 3,
     "metadata": {},
     "output_type": "execute_result"
    }
   ],
   "source": [
    "mnist_data.head()"
   ]
  },
  {
   "cell_type": "code",
   "execution_count": 4,
   "metadata": {},
   "outputs": [
    {
     "data": {
      "text/plain": [
       "(42000, 785)"
      ]
     },
     "execution_count": 4,
     "metadata": {},
     "output_type": "execute_result"
    }
   ],
   "source": [
    "mnist_data.shape"
   ]
  },
  {
   "cell_type": "code",
   "execution_count": 5,
   "metadata": {},
   "outputs": [
    {
     "data": {
      "text/plain": [
       "[0, 1, 2, 3, 4, 5, 6, 7, 8, 9]"
      ]
     },
     "execution_count": 5,
     "metadata": {},
     "output_type": "execute_result"
    }
   ],
   "source": [
    "sorted(mnist_data['label'].unique())"
   ]
  },
  {
   "cell_type": "code",
   "execution_count": 6,
   "metadata": {},
   "outputs": [],
   "source": [
    "mnist_features = mnist_data[mnist_data.columns[1:]]\n",
    "\n",
    "mnist_labels = mnist_data['label']"
   ]
  },
  {
   "cell_type": "code",
   "execution_count": 7,
   "metadata": {},
   "outputs": [],
   "source": [
    "def display_image(index):\n",
    "    print(\"Digit: \", mnist_labels[index])\n",
    "        \n",
    "    plt.imshow(mnist_features.loc[index].values.reshape(28,28), cmap='Greys')"
   ]
  },
  {
   "cell_type": "code",
   "execution_count": 8,
   "metadata": {},
   "outputs": [
    {
     "name": "stdout",
     "output_type": "stream",
     "text": [
      "Digit:  1\n"
     ]
    },
    {
     "data": {
      "image/png": "[encoded data removed]",
      "text/plain": [
       "<Figure size 432x288 with 1 Axes>"
      ]
     },
     "metadata": {
      "needs_background": "light"
     },
     "output_type": "display_data"
    }
   ],
   "source": [
    "display_image(2)"
   ]
  },
  {
   "cell_type": "code",
   "execution_count": 9,
   "metadata": {},
   "outputs": [
    {
     "name": "stdout",
     "output_type": "stream",
     "text": [
      "Digit:  0\n"
     ]
    },
    {
     "data": {
      "image/png": "[encoded data removed]",
      "text/plain": [
       "<Figure size 432x288 with 1 Axes>"
      ]
     },
     "metadata": {
      "needs_background": "light"
     },
     "output_type": "display_data"
    }
   ],
   "source": [
    "display_image(200)"
   ]
  },
  {
   "cell_type": "code",
   "execution_count": 10,
   "metadata": {},
   "outputs": [
    {
     "data": {
      "text/plain": [
       "(42000, 784)"
      ]
     },
     "execution_count": 10,
     "metadata": {},
     "output_type": "execute_result"
    }
   ],
   "source": [
    "mnist_features = np.asarray(mnist_features)\n",
    "\n",
    "mnist_features.shape"
   ]
  },
  {
   "cell_type": "code",
   "execution_count": 11,
   "metadata": {},
   "outputs": [
    {
     "data": {
      "text/plain": [
       "array([  0,   0,   0,   0,   0,   0,   0,   0,   0,   0,   0,   0,   0,\n",
       "         0,   0,   0,   0,   0,   0,   0,   0,   0,   0,   0,   0,   0,\n",
       "         0,   0,   0,   0,   7,  24,  24,  97, 253, 253, 253, 253, 255,\n",
       "       180,  48,   0,   0,   0,   0,   0,   0,   0,   0,   0])"
      ]
     },
     "execution_count": 11,
     "metadata": {},
     "output_type": "execute_result"
    }
   ],
   "source": [
    "mnist_features[10][150:200]"
   ]
  },
  {
   "cell_type": "code",
   "execution_count": 12,
   "metadata": {},
   "outputs": [],
   "source": [
    "mnist_features = mnist_features/255."
   ]
  },
  {
   "cell_type": "code",
   "execution_count": 13,
   "metadata": {},
   "outputs": [
    {
     "data": {
      "text/plain": [
       "array([0.        , 0.        , 0.        , 0.        , 0.        ,\n",
       "       0.        , 0.        , 0.        , 0.        , 0.        ,\n",
       "       0.        , 0.        , 0.        , 0.        , 0.        ,\n",
       "       0.        , 0.        , 0.        , 0.        , 0.        ,\n",
       "       0.        , 0.        , 0.        , 0.        , 0.        ,\n",
       "       0.        , 0.        , 0.        , 0.        , 0.        ,\n",
       "       0.02745098, 0.09411765, 0.09411765, 0.38039216, 0.99215686,\n",
       "       0.99215686, 0.99215686, 0.99215686, 1.        , 0.70588235,\n",
       "       0.18823529, 0.        , 0.        , 0.        , 0.        ,\n",
       "       0.        , 0.        , 0.        , 0.        , 0.        ])"
      ]
     },
     "execution_count": 13,
     "metadata": {},
     "output_type": "execute_result"
    }
   ],
   "source": [
    "mnist_features[10][150:200]"
   ]
  },
  {
   "cell_type": "code",
   "execution_count": 14,
   "metadata": {},
   "outputs": [],
   "source": [
    "x_train, x_test, y_train, y_test = train_test_split(mnist_features,\n",
    "                                                    mnist_labels, \n",
    "                                                    shuffle=True,\n",
    "                                                    test_size=0.2)"
   ]
  },
  {
   "cell_type": "code",
   "execution_count": 15,
   "metadata": {},
   "outputs": [],
   "source": [
    "logistic = linear_model.LogisticRegression(solver='lbfgs',\n",
    "                                           max_iter=1000,\n",
    "                                           multi_class='multinomial')"
   ]
  },
  {
   "cell_type": "code",
   "execution_count": 16,
   "metadata": {},
   "outputs": [
    {
     "data": {
      "text/plain": [
       "{'C': 0.1}"
      ]
     },
     "execution_count": 16,
     "metadata": {},
     "output_type": "execute_result"
    }
   ],
   "source": [
    "from sklearn.model_selection import GridSearchCV\n",
    "\n",
    "param_grid = [{'C' : [0.1, 1, 5]}]\n",
    "\n",
    "grid_search = GridSearchCV(logistic, param_grid, cv=2)\n",
    "grid_search.fit(x_train, y_train)\n",
    "grid_search.best_params_"
   ]
  },
  {
   "cell_type": "code",
   "execution_count": 17,
   "metadata": {},
   "outputs": [
    {
     "name": "stdout",
     "output_type": "stream",
     "text": [
      "Parameters:  {'C': 0.1}\n",
      "Mean Test Score:  0.9143749999999999\n",
      "Rank:  1\n",
      "Parameters:  {'C': 1}\n",
      "Mean Test Score:  0.9102380952380953\n",
      "Rank:  2\n",
      "Parameters:  {'C': 5}\n",
      "Mean Test Score:  0.8999702380952381\n",
      "Rank:  3\n"
     ]
    }
   ],
   "source": [
    "for i in range(3):\n",
    "    print('Parameters: ', grid_search.cv_results_['params'][i])\n",
    "    print('Mean Test Score: ', grid_search.cv_results_['mean_test_score'][i])\n",
    "    print('Rank: ', grid_search.cv_results_['rank_test_score'][i])"
   ]
  },
  {
   "cell_type": "code",
   "execution_count": 18,
   "metadata": {},
   "outputs": [],
   "source": [
    "rbm = BernoulliRBM(verbose=True)\n",
    "\n",
    "rbm_features_classifier = Pipeline(steps = [('rbm', rbm), \n",
    "                                            ('logistic', logistic)])\n",
    "\n",
    "rbm.learning_rate = 0.06\n",
    "logistic.C = grid_search.best_params_['C']"
   ]
  },
  {
   "cell_type": "code",
   "execution_count": 19,
   "metadata": {},
   "outputs": [
    {
     "data": {
      "text/plain": [
       "dict_keys(['memory', 'steps', 'verbose', 'rbm', 'logistic', 'rbm__batch_size', 'rbm__learning_rate', 'rbm__n_components', 'rbm__n_iter', 'rbm__random_state', 'rbm__verbose', 'logistic__C', 'logistic__class_weight', 'logistic__dual', 'logistic__fit_intercept', 'logistic__intercept_scaling', 'logistic__l1_ratio', 'logistic__max_iter', 'logistic__multi_class', 'logistic__n_jobs', 'logistic__penalty', 'logistic__random_state', 'logistic__solver', 'logistic__tol', 'logistic__verbose', 'logistic__warm_start'])"
      ]
     },
     "execution_count": 19,
     "metadata": {},
     "output_type": "execute_result"
    }
   ],
   "source": [
    "rbm_features_classifier.get_params().keys()"
   ]
  },
  {
   "cell_type": "code",
   "execution_count": 20,
   "metadata": {},
   "outputs": [
    {
     "name": "stdout",
     "output_type": "stream",
     "text": [
      "[BernoulliRBM] Iteration 1, pseudo-likelihood = -194.78, time = 1.03s\n",
      "[BernoulliRBM] Iteration 2, pseudo-likelihood = -195.26, time = 1.03s\n",
      "[BernoulliRBM] Iteration 3, pseudo-likelihood = -198.48, time = 1.07s\n",
      "[BernoulliRBM] Iteration 4, pseudo-likelihood = -199.07, time = 1.03s\n",
      "[BernoulliRBM] Iteration 5, pseudo-likelihood = -199.69, time = 1.03s\n",
      "[BernoulliRBM] Iteration 1, pseudo-likelihood = -201.87, time = 1.01s\n",
      "[BernoulliRBM] Iteration 2, pseudo-likelihood = -195.28, time = 1.05s\n",
      "[BernoulliRBM] Iteration 3, pseudo-likelihood = -195.77, time = 1.01s\n",
      "[BernoulliRBM] Iteration 4, pseudo-likelihood = -200.57, time = 1.01s\n",
      "[BernoulliRBM] Iteration 5, pseudo-likelihood = -208.35, time = 1.03s\n",
      "[BernoulliRBM] Iteration 1, pseudo-likelihood = -195.42, time = 1.03s\n",
      "[BernoulliRBM] Iteration 2, pseudo-likelihood = -200.52, time = 1.07s\n",
      "[BernoulliRBM] Iteration 3, pseudo-likelihood = -198.42, time = 1.01s\n",
      "[BernoulliRBM] Iteration 4, pseudo-likelihood = -196.42, time = 1.07s\n",
      "[BernoulliRBM] Iteration 5, pseudo-likelihood = -193.07, time = 1.00s\n",
      "[BernoulliRBM] Iteration 6, pseudo-likelihood = -194.77, time = 0.99s\n",
      "[BernoulliRBM] Iteration 7, pseudo-likelihood = -198.16, time = 1.03s\n",
      "[BernoulliRBM] Iteration 8, pseudo-likelihood = -196.57, time = 1.02s\n",
      "[BernoulliRBM] Iteration 9, pseudo-likelihood = -194.87, time = 1.06s\n",
      "[BernoulliRBM] Iteration 10, pseudo-likelihood = -192.17, time = 1.04s\n",
      "[BernoulliRBM] Iteration 11, pseudo-likelihood = -199.50, time = 1.06s\n",
      "[BernoulliRBM] Iteration 12, pseudo-likelihood = -196.25, time = 1.06s\n",
      "[BernoulliRBM] Iteration 13, pseudo-likelihood = -195.46, time = 1.02s\n",
      "[BernoulliRBM] Iteration 14, pseudo-likelihood = -194.86, time = 1.04s\n",
      "[BernoulliRBM] Iteration 15, pseudo-likelihood = -187.02, time = 1.02s\n",
      "[BernoulliRBM] Iteration 16, pseudo-likelihood = -189.87, time = 1.02s\n",
      "[BernoulliRBM] Iteration 17, pseudo-likelihood = -184.45, time = 1.07s\n",
      "[BernoulliRBM] Iteration 18, pseudo-likelihood = -185.00, time = 1.05s\n",
      "[BernoulliRBM] Iteration 19, pseudo-likelihood = -192.63, time = 1.03s\n",
      "[BernoulliRBM] Iteration 20, pseudo-likelihood = -186.19, time = 1.04s\n",
      "[BernoulliRBM] Iteration 1, pseudo-likelihood = -196.95, time = 1.05s\n",
      "[BernoulliRBM] Iteration 2, pseudo-likelihood = -201.68, time = 1.05s\n",
      "[BernoulliRBM] Iteration 3, pseudo-likelihood = -202.46, time = 1.08s\n",
      "[BernoulliRBM] Iteration 4, pseudo-likelihood = -200.53, time = 1.07s\n",
      "[BernoulliRBM] Iteration 5, pseudo-likelihood = -202.92, time = 1.07s\n",
      "[BernoulliRBM] Iteration 6, pseudo-likelihood = -200.92, time = 1.01s\n",
      "[BernoulliRBM] Iteration 7, pseudo-likelihood = -199.68, time = 1.04s\n",
      "[BernoulliRBM] Iteration 8, pseudo-likelihood = -200.27, time = 1.06s\n",
      "[BernoulliRBM] Iteration 9, pseudo-likelihood = -197.51, time = 1.06s\n",
      "[BernoulliRBM] Iteration 10, pseudo-likelihood = -197.20, time = 1.05s\n",
      "[BernoulliRBM] Iteration 11, pseudo-likelihood = -194.11, time = 1.05s\n",
      "[BernoulliRBM] Iteration 12, pseudo-likelihood = -202.35, time = 1.03s\n",
      "[BernoulliRBM] Iteration 13, pseudo-likelihood = -195.33, time = 1.08s\n",
      "[BernoulliRBM] Iteration 14, pseudo-likelihood = -195.80, time = 1.05s\n",
      "[BernoulliRBM] Iteration 15, pseudo-likelihood = -200.92, time = 1.05s\n",
      "[BernoulliRBM] Iteration 16, pseudo-likelihood = -198.76, time = 1.01s\n",
      "[BernoulliRBM] Iteration 17, pseudo-likelihood = -198.28, time = 1.03s\n",
      "[BernoulliRBM] Iteration 18, pseudo-likelihood = -202.39, time = 1.05s\n",
      "[BernoulliRBM] Iteration 19, pseudo-likelihood = -202.89, time = 1.05s\n",
      "[BernoulliRBM] Iteration 20, pseudo-likelihood = -201.11, time = 1.05s\n",
      "[BernoulliRBM] Iteration 1, pseudo-likelihood = -124.85, time = 2.35s\n",
      "[BernoulliRBM] Iteration 2, pseudo-likelihood = -115.34, time = 2.83s\n",
      "[BernoulliRBM] Iteration 3, pseudo-likelihood = -109.60, time = 2.88s\n",
      "[BernoulliRBM] Iteration 4, pseudo-likelihood = -107.11, time = 2.86s\n",
      "[BernoulliRBM] Iteration 5, pseudo-likelihood = -103.60, time = 2.85s\n",
      "[BernoulliRBM] Iteration 1, pseudo-likelihood = -128.48, time = 2.44s\n",
      "[BernoulliRBM] Iteration 2, pseudo-likelihood = -118.64, time = 2.76s\n",
      "[BernoulliRBM] Iteration 3, pseudo-likelihood = -110.30, time = 2.83s\n",
      "[BernoulliRBM] Iteration 4, pseudo-likelihood = -109.68, time = 2.72s\n",
      "[BernoulliRBM] Iteration 5, pseudo-likelihood = -107.76, time = 2.81s\n",
      "[BernoulliRBM] Iteration 1, pseudo-likelihood = -125.40, time = 2.51s\n",
      "[BernoulliRBM] Iteration 2, pseudo-likelihood = -113.93, time = 2.81s\n",
      "[BernoulliRBM] Iteration 3, pseudo-likelihood = -109.57, time = 2.82s\n",
      "[BernoulliRBM] Iteration 4, pseudo-likelihood = -110.32, time = 2.85s\n",
      "[BernoulliRBM] Iteration 5, pseudo-likelihood = -106.60, time = 2.89s\n",
      "[BernoulliRBM] Iteration 6, pseudo-likelihood = -105.37, time = 2.80s\n",
      "[BernoulliRBM] Iteration 7, pseudo-likelihood = -101.68, time = 2.77s\n",
      "[BernoulliRBM] Iteration 8, pseudo-likelihood = -100.24, time = 2.83s\n",
      "[BernoulliRBM] Iteration 9, pseudo-likelihood = -102.70, time = 2.80s\n",
      "[BernoulliRBM] Iteration 10, pseudo-likelihood = -103.64, time = 2.88s\n",
      "[BernoulliRBM] Iteration 11, pseudo-likelihood = -104.12, time = 2.88s\n",
      "[BernoulliRBM] Iteration 12, pseudo-likelihood = -101.52, time = 2.72s\n",
      "[BernoulliRBM] Iteration 13, pseudo-likelihood = -100.49, time = 2.68s\n",
      "[BernoulliRBM] Iteration 14, pseudo-likelihood = -98.51, time = 2.60s\n",
      "[BernoulliRBM] Iteration 15, pseudo-likelihood = -99.90, time = 2.58s\n",
      "[BernoulliRBM] Iteration 16, pseudo-likelihood = -106.01, time = 2.87s\n",
      "[BernoulliRBM] Iteration 17, pseudo-likelihood = -101.78, time = 2.84s\n",
      "[BernoulliRBM] Iteration 18, pseudo-likelihood = -99.36, time = 2.75s\n",
      "[BernoulliRBM] Iteration 19, pseudo-likelihood = -100.17, time = 2.79s\n",
      "[BernoulliRBM] Iteration 20, pseudo-likelihood = -95.90, time = 2.79s\n",
      "[BernoulliRBM] Iteration 1, pseudo-likelihood = -125.60, time = 2.54s\n",
      "[BernoulliRBM] Iteration 2, pseudo-likelihood = -114.36, time = 2.91s\n",
      "[BernoulliRBM] Iteration 3, pseudo-likelihood = -113.14, time = 2.79s\n",
      "[BernoulliRBM] Iteration 4, pseudo-likelihood = -112.02, time = 2.84s\n",
      "[BernoulliRBM] Iteration 5, pseudo-likelihood = -109.26, time = 2.86s\n",
      "[BernoulliRBM] Iteration 6, pseudo-likelihood = -104.74, time = 2.83s\n",
      "[BernoulliRBM] Iteration 7, pseudo-likelihood = -105.38, time = 2.74s\n",
      "[BernoulliRBM] Iteration 8, pseudo-likelihood = -100.10, time = 2.70s\n",
      "[BernoulliRBM] Iteration 9, pseudo-likelihood = -103.15, time = 2.86s\n",
      "[BernoulliRBM] Iteration 10, pseudo-likelihood = -101.78, time = 2.76s\n",
      "[BernoulliRBM] Iteration 11, pseudo-likelihood = -107.11, time = 2.82s\n",
      "[BernoulliRBM] Iteration 12, pseudo-likelihood = -105.44, time = 2.80s\n",
      "[BernoulliRBM] Iteration 13, pseudo-likelihood = -105.37, time = 2.90s\n",
      "[BernoulliRBM] Iteration 14, pseudo-likelihood = -101.34, time = 2.80s\n",
      "[BernoulliRBM] Iteration 15, pseudo-likelihood = -101.37, time = 2.75s\n",
      "[BernoulliRBM] Iteration 16, pseudo-likelihood = -102.31, time = 2.78s\n",
      "[BernoulliRBM] Iteration 17, pseudo-likelihood = -99.24, time = 2.76s\n",
      "[BernoulliRBM] Iteration 18, pseudo-likelihood = -98.13, time = 2.79s\n",
      "[BernoulliRBM] Iteration 19, pseudo-likelihood = -101.86, time = 2.96s\n",
      "[BernoulliRBM] Iteration 20, pseudo-likelihood = -96.61, time = 2.88s\n",
      "[BernoulliRBM] Iteration 1, pseudo-likelihood = -109.00, time = 3.44s\n",
      "[BernoulliRBM] Iteration 2, pseudo-likelihood = -100.08, time = 4.00s\n",
      "[BernoulliRBM] Iteration 3, pseudo-likelihood = -99.62, time = 3.99s\n",
      "[BernoulliRBM] Iteration 4, pseudo-likelihood = -94.64, time = 4.06s\n",
      "[BernoulliRBM] Iteration 5, pseudo-likelihood = -91.34, time = 4.06s\n",
      "[BernoulliRBM] Iteration 1, pseudo-likelihood = -110.72, time = 3.53s\n",
      "[BernoulliRBM] Iteration 2, pseudo-likelihood = -103.72, time = 3.94s\n",
      "[BernoulliRBM] Iteration 3, pseudo-likelihood = -98.59, time = 3.94s\n",
      "[BernoulliRBM] Iteration 4, pseudo-likelihood = -99.83, time = 3.99s\n",
      "[BernoulliRBM] Iteration 5, pseudo-likelihood = -93.43, time = 3.92s\n",
      "[BernoulliRBM] Iteration 1, pseudo-likelihood = -112.34, time = 3.80s\n",
      "[BernoulliRBM] Iteration 2, pseudo-likelihood = -101.31, time = 4.03s\n",
      "[BernoulliRBM] Iteration 3, pseudo-likelihood = -99.09, time = 3.83s\n",
      "[BernoulliRBM] Iteration 4, pseudo-likelihood = -91.51, time = 4.04s\n",
      "[BernoulliRBM] Iteration 5, pseudo-likelihood = -89.82, time = 3.97s\n",
      "[BernoulliRBM] Iteration 6, pseudo-likelihood = -91.86, time = 3.81s\n",
      "[BernoulliRBM] Iteration 7, pseudo-likelihood = -89.72, time = 3.96s\n"
     ]
    },
    {
     "name": "stdout",
     "output_type": "stream",
     "text": [
      "[BernoulliRBM] Iteration 8, pseudo-likelihood = -89.08, time = 3.97s\n",
      "[BernoulliRBM] Iteration 9, pseudo-likelihood = -88.28, time = 3.95s\n",
      "[BernoulliRBM] Iteration 10, pseudo-likelihood = -89.75, time = 4.13s\n",
      "[BernoulliRBM] Iteration 11, pseudo-likelihood = -90.87, time = 4.25s\n",
      "[BernoulliRBM] Iteration 12, pseudo-likelihood = -82.58, time = 4.15s\n",
      "[BernoulliRBM] Iteration 13, pseudo-likelihood = -86.33, time = 3.89s\n",
      "[BernoulliRBM] Iteration 14, pseudo-likelihood = -85.81, time = 3.97s\n",
      "[BernoulliRBM] Iteration 15, pseudo-likelihood = -87.87, time = 3.83s\n",
      "[BernoulliRBM] Iteration 16, pseudo-likelihood = -84.47, time = 3.89s\n",
      "[BernoulliRBM] Iteration 17, pseudo-likelihood = -86.34, time = 3.85s\n",
      "[BernoulliRBM] Iteration 18, pseudo-likelihood = -82.48, time = 3.88s\n",
      "[BernoulliRBM] Iteration 19, pseudo-likelihood = -83.71, time = 3.85s\n",
      "[BernoulliRBM] Iteration 20, pseudo-likelihood = -85.38, time = 3.90s\n",
      "[BernoulliRBM] Iteration 1, pseudo-likelihood = -116.79, time = 3.40s\n",
      "[BernoulliRBM] Iteration 2, pseudo-likelihood = -109.71, time = 3.96s\n",
      "[BernoulliRBM] Iteration 3, pseudo-likelihood = -97.15, time = 4.00s\n",
      "[BernoulliRBM] Iteration 4, pseudo-likelihood = -95.68, time = 4.07s\n",
      "[BernoulliRBM] Iteration 5, pseudo-likelihood = -95.47, time = 4.04s\n",
      "[BernoulliRBM] Iteration 6, pseudo-likelihood = -92.60, time = 3.90s\n",
      "[BernoulliRBM] Iteration 7, pseudo-likelihood = -89.52, time = 4.13s\n",
      "[BernoulliRBM] Iteration 8, pseudo-likelihood = -85.60, time = 3.87s\n",
      "[BernoulliRBM] Iteration 9, pseudo-likelihood = -88.18, time = 3.90s\n",
      "[BernoulliRBM] Iteration 10, pseudo-likelihood = -88.37, time = 3.90s\n",
      "[BernoulliRBM] Iteration 11, pseudo-likelihood = -92.56, time = 3.95s\n",
      "[BernoulliRBM] Iteration 12, pseudo-likelihood = -90.93, time = 3.80s\n",
      "[BernoulliRBM] Iteration 13, pseudo-likelihood = -89.40, time = 3.95s\n",
      "[BernoulliRBM] Iteration 14, pseudo-likelihood = -88.71, time = 3.94s\n",
      "[BernoulliRBM] Iteration 15, pseudo-likelihood = -89.05, time = 3.85s\n",
      "[BernoulliRBM] Iteration 16, pseudo-likelihood = -88.89, time = 3.78s\n",
      "[BernoulliRBM] Iteration 17, pseudo-likelihood = -87.10, time = 4.02s\n",
      "[BernoulliRBM] Iteration 18, pseudo-likelihood = -90.28, time = 3.96s\n",
      "[BernoulliRBM] Iteration 19, pseudo-likelihood = -83.03, time = 3.99s\n",
      "[BernoulliRBM] Iteration 20, pseudo-likelihood = -84.32, time = 3.95s\n",
      "[BernoulliRBM] Iteration 1, pseudo-likelihood = -108.55, time = 4.46s\n",
      "[BernoulliRBM] Iteration 2, pseudo-likelihood = -92.50, time = 4.94s\n",
      "[BernoulliRBM] Iteration 3, pseudo-likelihood = -95.90, time = 5.40s\n",
      "[BernoulliRBM] Iteration 4, pseudo-likelihood = -90.05, time = 5.28s\n",
      "[BernoulliRBM] Iteration 5, pseudo-likelihood = -86.71, time = 5.17s\n",
      "[BernoulliRBM] Iteration 1, pseudo-likelihood = -103.56, time = 4.41s\n",
      "[BernoulliRBM] Iteration 2, pseudo-likelihood = -98.20, time = 4.89s\n",
      "[BernoulliRBM] Iteration 3, pseudo-likelihood = -96.35, time = 5.09s\n",
      "[BernoulliRBM] Iteration 4, pseudo-likelihood = -87.74, time = 5.08s\n",
      "[BernoulliRBM] Iteration 5, pseudo-likelihood = -86.06, time = 5.16s\n",
      "[BernoulliRBM] Iteration 1, pseudo-likelihood = -103.92, time = 4.43s\n",
      "[BernoulliRBM] Iteration 2, pseudo-likelihood = -95.05, time = 4.95s\n",
      "[BernoulliRBM] Iteration 3, pseudo-likelihood = -86.25, time = 5.06s\n",
      "[BernoulliRBM] Iteration 4, pseudo-likelihood = -89.77, time = 5.40s\n",
      "[BernoulliRBM] Iteration 5, pseudo-likelihood = -87.00, time = 5.03s\n",
      "[BernoulliRBM] Iteration 6, pseudo-likelihood = -83.27, time = 5.02s\n",
      "[BernoulliRBM] Iteration 7, pseudo-likelihood = -82.93, time = 5.24s\n",
      "[BernoulliRBM] Iteration 8, pseudo-likelihood = -84.03, time = 5.43s\n",
      "[BernoulliRBM] Iteration 9, pseudo-likelihood = -82.35, time = 5.48s\n",
      "[BernoulliRBM] Iteration 10, pseudo-likelihood = -76.89, time = 5.16s\n",
      "[BernoulliRBM] Iteration 11, pseudo-likelihood = -85.67, time = 4.94s\n",
      "[BernoulliRBM] Iteration 12, pseudo-likelihood = -82.06, time = 5.02s\n",
      "[BernoulliRBM] Iteration 13, pseudo-likelihood = -83.24, time = 5.26s\n",
      "[BernoulliRBM] Iteration 14, pseudo-likelihood = -80.03, time = 5.43s\n",
      "[BernoulliRBM] Iteration 15, pseudo-likelihood = -82.08, time = 5.00s\n",
      "[BernoulliRBM] Iteration 16, pseudo-likelihood = -78.36, time = 5.13s\n",
      "[BernoulliRBM] Iteration 17, pseudo-likelihood = -78.42, time = 5.01s\n",
      "[BernoulliRBM] Iteration 18, pseudo-likelihood = -77.73, time = 5.01s\n",
      "[BernoulliRBM] Iteration 19, pseudo-likelihood = -79.35, time = 4.99s\n",
      "[BernoulliRBM] Iteration 20, pseudo-likelihood = -79.80, time = 5.08s\n",
      "[BernoulliRBM] Iteration 1, pseudo-likelihood = -103.62, time = 4.51s\n",
      "[BernoulliRBM] Iteration 2, pseudo-likelihood = -95.95, time = 4.99s\n",
      "[BernoulliRBM] Iteration 3, pseudo-likelihood = -89.63, time = 5.25s\n",
      "[BernoulliRBM] Iteration 4, pseudo-likelihood = -89.93, time = 5.10s\n",
      "[BernoulliRBM] Iteration 5, pseudo-likelihood = -89.55, time = 4.95s\n",
      "[BernoulliRBM] Iteration 6, pseudo-likelihood = -84.50, time = 5.04s\n",
      "[BernoulliRBM] Iteration 7, pseudo-likelihood = -89.23, time = 5.02s\n",
      "[BernoulliRBM] Iteration 8, pseudo-likelihood = -86.49, time = 4.96s\n",
      "[BernoulliRBM] Iteration 9, pseudo-likelihood = -85.53, time = 4.99s\n",
      "[BernoulliRBM] Iteration 10, pseudo-likelihood = -81.26, time = 4.94s\n",
      "[BernoulliRBM] Iteration 11, pseudo-likelihood = -81.27, time = 5.17s\n",
      "[BernoulliRBM] Iteration 12, pseudo-likelihood = -82.98, time = 4.96s\n",
      "[BernoulliRBM] Iteration 13, pseudo-likelihood = -80.64, time = 5.04s\n",
      "[BernoulliRBM] Iteration 14, pseudo-likelihood = -82.64, time = 5.04s\n",
      "[BernoulliRBM] Iteration 15, pseudo-likelihood = -79.52, time = 5.11s\n",
      "[BernoulliRBM] Iteration 16, pseudo-likelihood = -79.91, time = 5.06s\n",
      "[BernoulliRBM] Iteration 17, pseudo-likelihood = -83.41, time = 4.92s\n",
      "[BernoulliRBM] Iteration 18, pseudo-likelihood = -77.49, time = 5.29s\n",
      "[BernoulliRBM] Iteration 19, pseudo-likelihood = -80.81, time = 5.12s\n",
      "[BernoulliRBM] Iteration 20, pseudo-likelihood = -80.68, time = 5.15s\n",
      "[BernoulliRBM] Iteration 1, pseudo-likelihood = -92.71, time = 9.42s\n",
      "[BernoulliRBM] Iteration 2, pseudo-likelihood = -87.90, time = 10.62s\n",
      "[BernoulliRBM] Iteration 3, pseudo-likelihood = -84.87, time = 10.23s\n",
      "[BernoulliRBM] Iteration 4, pseudo-likelihood = -84.39, time = 10.29s\n",
      "[BernoulliRBM] Iteration 5, pseudo-likelihood = -83.48, time = 10.59s\n",
      "[BernoulliRBM] Iteration 6, pseudo-likelihood = -80.73, time = 10.37s\n",
      "[BernoulliRBM] Iteration 7, pseudo-likelihood = -81.86, time = 10.39s\n",
      "[BernoulliRBM] Iteration 8, pseudo-likelihood = -80.40, time = 10.18s\n",
      "[BernoulliRBM] Iteration 9, pseudo-likelihood = -80.66, time = 10.25s\n",
      "[BernoulliRBM] Iteration 10, pseudo-likelihood = -78.93, time = 10.29s\n",
      "[BernoulliRBM] Iteration 11, pseudo-likelihood = -80.15, time = 10.53s\n",
      "[BernoulliRBM] Iteration 12, pseudo-likelihood = -77.68, time = 10.38s\n",
      "[BernoulliRBM] Iteration 13, pseudo-likelihood = -79.11, time = 10.56s\n",
      "[BernoulliRBM] Iteration 14, pseudo-likelihood = -78.38, time = 10.21s\n",
      "[BernoulliRBM] Iteration 15, pseudo-likelihood = -77.47, time = 10.34s\n",
      "[BernoulliRBM] Iteration 16, pseudo-likelihood = -77.63, time = 10.08s\n",
      "[BernoulliRBM] Iteration 17, pseudo-likelihood = -78.22, time = 10.66s\n",
      "[BernoulliRBM] Iteration 18, pseudo-likelihood = -77.72, time = 10.79s\n",
      "[BernoulliRBM] Iteration 19, pseudo-likelihood = -78.17, time = 10.50s\n",
      "[BernoulliRBM] Iteration 20, pseudo-likelihood = -77.40, time = 10.69s\n"
     ]
    },
    {
     "data": {
      "text/plain": [
       "{'rbm__n_components': 150, 'rbm__n_iter': 20}"
      ]
     },
     "execution_count": 20,
     "metadata": {},
     "output_type": "execute_result"
    }
   ],
   "source": [
    "param_grid = [{'rbm__n_components' : [5, 50, 100, 150],\n",
    "               'rbm__n_iter' : [5, 20]}]\n",
    "\n",
    "grid_search = GridSearchCV(rbm_features_classifier, param_grid, cv=2)\n",
    "\n",
    "grid_search.fit(x_train,y_train)\n",
    "\n",
    "grid_search.best_params_"
   ]
  },
  {
   "cell_type": "code",
   "execution_count": 21,
   "metadata": {},
   "outputs": [
    {
     "name": "stdout",
     "output_type": "stream",
     "text": [
      "Parameters:  {'rbm__n_components': 5, 'rbm__n_iter': 5}\n",
      "Mean Test Score:  0.11136904761904762\n",
      "Rank:  8\n",
      "Parameters:  {'rbm__n_components': 5, 'rbm__n_iter': 20}\n",
      "Mean Test Score:  0.1587797619047619\n",
      "Rank:  7\n",
      "Parameters:  {'rbm__n_components': 50, 'rbm__n_iter': 5}\n",
      "Mean Test Score:  0.8894642857142857\n",
      "Rank:  6\n",
      "Parameters:  {'rbm__n_components': 50, 'rbm__n_iter': 20}\n",
      "Mean Test Score:  0.8919642857142858\n",
      "Rank:  5\n",
      "Parameters:  {'rbm__n_components': 100, 'rbm__n_iter': 5}\n",
      "Mean Test Score:  0.9192261904761905\n",
      "Rank:  4\n",
      "Parameters:  {'rbm__n_components': 100, 'rbm__n_iter': 20}\n",
      "Mean Test Score:  0.9238095238095239\n",
      "Rank:  3\n",
      "Parameters:  {'rbm__n_components': 150, 'rbm__n_iter': 5}\n",
      "Mean Test Score:  0.9342261904761904\n",
      "Rank:  2\n",
      "Parameters:  {'rbm__n_components': 150, 'rbm__n_iter': 20}\n",
      "Mean Test Score:  0.9344642857142857\n",
      "Rank:  1\n"
     ]
    }
   ],
   "source": [
    "for i in range(8):\n",
    "    print('Parameters: ', grid_search.cv_results_['params'][i])\n",
    "    print('Mean Test Score: ', grid_search.cv_results_['mean_test_score'][i])\n",
    "    print('Rank: ', grid_search.cv_results_['rank_test_score'][i])"
   ]
  },
  {
   "cell_type": "code",
   "execution_count": null,
   "metadata": {},
   "outputs": [],
   "source": []
  },
  {
   "cell_type": "code",
   "execution_count": null,
   "metadata": {},
   "outputs": [],
   "source": []
  },
  {
   "cell_type": "code",
   "execution_count": null,
   "metadata": {},
   "outputs": [],
   "source": []
  },
  {
   "cell_type": "code",
   "execution_count": null,
   "metadata": {},
   "outputs": [],
   "source": []
  },
  {
   "cell_type": "code",
   "execution_count": null,
   "metadata": {},
   "outputs": [],
   "source": []
  },
  {
   "cell_type": "code",
   "execution_count": null,
   "metadata": {},
   "outputs": [],
   "source": []
  },
  {
   "cell_type": "code",
   "execution_count": null,
   "metadata": {},
   "outputs": [],
   "source": []
  },
  {
   "cell_type": "code",
   "execution_count": null,
   "metadata": {},
   "outputs": [],
   "source": []
  },
  {
   "cell_type": "code",
   "execution_count": null,
   "metadata": {},
   "outputs": [],
   "source": []
  }
 ],
 "metadata": {
  "kernelspec": {
   "display_name": "Python 3",
   "language": "python",
   "name": "python3"
  },
  "language_info": {
   "codemirror_mode": {
    "name": "ipython",
    "version": 3
   },
   "file_extension": ".py",
   "mimetype": "text/x-python",
   "name": "python",
   "nbconvert_exporter": "python",
   "pygments_lexer": "ipython3",
   "version": "3.7.6"
  }
 },
 "nbformat": 4,
 "nbformat_minor": 2
}
